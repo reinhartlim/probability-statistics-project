{
 "cells": [
  {
   "cell_type": "code",
   "execution_count": 1,
   "id": "72ea19bb-8c77-4db6-8a29-28b957da318b",
   "metadata": {},
   "outputs": [],
   "source": [
    "# import module\n",
    "import pandas as pd\n",
    "import seaborn as sns\n",
    "import matplotlib.pyplot as plt\n",
    "import numpy as np\n",
    "import scipy.stats as st\n",
    "import statsmodels.api as sm\n",
    "from statsmodels.formula.api import ols\n"
   ]
  },
  {
   "cell_type": "code",
   "execution_count": 2,
   "id": "4f80d12b-cf65-4fbf-a983-bc62ca3e246f",
   "metadata": {},
   "outputs": [],
   "source": [
    "# Load Data\n",
    "data = pd.read_excel('../Downloads/18221154.xlsx')"
   ]
  },
  {
   "cell_type": "code",
   "execution_count": 3,
   "id": "ce14dbf9-f793-4187-9187-d47bd18646fe",
   "metadata": {},
   "outputs": [
    {
     "data": {
      "text/html": [
       "<div>\n",
       "<style scoped>\n",
       "    .dataframe tbody tr th:only-of-type {\n",
       "        vertical-align: middle;\n",
       "    }\n",
       "\n",
       "    .dataframe tbody tr th {\n",
       "        vertical-align: top;\n",
       "    }\n",
       "\n",
       "    .dataframe thead th {\n",
       "        text-align: right;\n",
       "    }\n",
       "</style>\n",
       "<table border=\"1\" class=\"dataframe\">\n",
       "  <thead>\n",
       "    <tr style=\"text-align: right;\">\n",
       "      <th></th>\n",
       "      <th>Jenis Kelamin</th>\n",
       "      <th>Usia</th>\n",
       "      <th>Pendidikan Terakhir</th>\n",
       "      <th>Pekerjaan</th>\n",
       "      <th>Penghasilan per Bulan</th>\n",
       "      <th>Domisili</th>\n",
       "      <th>Durasi Penggunaan Internet per Hari (dalam Jam)</th>\n",
       "      <th>Aktivitas Online Meningkat</th>\n",
       "      <th>Aktivitas yang Meningkat dalam 3 Bulan Terakhir</th>\n",
       "      <th>layanan_aktif_1</th>\n",
       "      <th>...</th>\n",
       "      <th>cara_pembayaran_belanja_online_5</th>\n",
       "      <th>cara_pembayaran_belanja_online_6</th>\n",
       "      <th>cara_pembayaran_belanja_online_7</th>\n",
       "      <th>cara_pembayaran_belanja_online_8</th>\n",
       "      <th>keluhan_belanja_online_1</th>\n",
       "      <th>keluhan_belanja_online_2</th>\n",
       "      <th>keluhan_belanja_online_3</th>\n",
       "      <th>keluhan_belanja_online_4</th>\n",
       "      <th>keluhan_belanja_online_5</th>\n",
       "      <th>keluhan_belanja_online_6</th>\n",
       "    </tr>\n",
       "  </thead>\n",
       "  <tbody>\n",
       "    <tr>\n",
       "      <th>0</th>\n",
       "      <td>Pria</td>\n",
       "      <td>20.0</td>\n",
       "      <td>SMA</td>\n",
       "      <td>Pelajar / Mahasiswa</td>\n",
       "      <td>&lt; Rp 2 juta</td>\n",
       "      <td>Bogor</td>\n",
       "      <td>500%</td>\n",
       "      <td>Tidak</td>\n",
       "      <td>NaN</td>\n",
       "      <td>Mobile Banking</td>\n",
       "      <td>...</td>\n",
       "      <td>Transfer via ATM</td>\n",
       "      <td>NaN</td>\n",
       "      <td>NaN</td>\n",
       "      <td>NaN</td>\n",
       "      <td>NaN</td>\n",
       "      <td>NaN</td>\n",
       "      <td>NaN</td>\n",
       "      <td>NaN</td>\n",
       "      <td>NaN</td>\n",
       "      <td>NaN</td>\n",
       "    </tr>\n",
       "    <tr>\n",
       "      <th>1</th>\n",
       "      <td>Pria</td>\n",
       "      <td>24.0</td>\n",
       "      <td>D3</td>\n",
       "      <td>Pegawai Negeri</td>\n",
       "      <td>Rp 2 juta – Rp 5 juta</td>\n",
       "      <td>Tangerang</td>\n",
       "      <td>500%</td>\n",
       "      <td>Tidak</td>\n",
       "      <td>NaN</td>\n",
       "      <td>Mobile Banking</td>\n",
       "      <td>...</td>\n",
       "      <td>Transfer via ATM</td>\n",
       "      <td>Kartu Kredit / Debit Online</td>\n",
       "      <td>NaN</td>\n",
       "      <td>NaN</td>\n",
       "      <td>Barang yang diperoleh tidak sesuai dengan spes...</td>\n",
       "      <td>Barang rusak/ salah tetapi tidak dapat dikemba...</td>\n",
       "      <td>Pembayaran sudah dilakukan; barang tidak tersedia</td>\n",
       "      <td>NaN</td>\n",
       "      <td>Pembayaran telah dilakukan tetapi tidak terdet...</td>\n",
       "      <td>NaN</td>\n",
       "    </tr>\n",
       "    <tr>\n",
       "      <th>2</th>\n",
       "      <td>Wanita</td>\n",
       "      <td>19.0</td>\n",
       "      <td>SMA</td>\n",
       "      <td>Pelajar / Mahasiswa</td>\n",
       "      <td>Rp 2 juta – Rp 5 juta</td>\n",
       "      <td>Bandung</td>\n",
       "      <td>700%</td>\n",
       "      <td>Ya</td>\n",
       "      <td>Akses media sosial</td>\n",
       "      <td>Mobile Banking</td>\n",
       "      <td>...</td>\n",
       "      <td>NaN</td>\n",
       "      <td>NaN</td>\n",
       "      <td>NaN</td>\n",
       "      <td>NaN</td>\n",
       "      <td>NaN</td>\n",
       "      <td>NaN</td>\n",
       "      <td>NaN</td>\n",
       "      <td>Jumlah barang yang diterima kurang</td>\n",
       "      <td>NaN</td>\n",
       "      <td>NaN</td>\n",
       "    </tr>\n",
       "    <tr>\n",
       "      <th>3</th>\n",
       "      <td>Wanita</td>\n",
       "      <td>35.0</td>\n",
       "      <td>S1</td>\n",
       "      <td>Ibu Rumah Tangga</td>\n",
       "      <td>&lt; Rp 2 juta</td>\n",
       "      <td>Sumatera Barat</td>\n",
       "      <td>1000%</td>\n",
       "      <td>Ya</td>\n",
       "      <td>Akses media sosial</td>\n",
       "      <td>Mobile Banking</td>\n",
       "      <td>...</td>\n",
       "      <td>NaN</td>\n",
       "      <td>NaN</td>\n",
       "      <td>NaN</td>\n",
       "      <td>NaN</td>\n",
       "      <td>Barang yang diperoleh tidak sesuai dengan spes...</td>\n",
       "      <td>NaN</td>\n",
       "      <td>NaN</td>\n",
       "      <td>NaN</td>\n",
       "      <td>NaN</td>\n",
       "      <td>NaN</td>\n",
       "    </tr>\n",
       "    <tr>\n",
       "      <th>4</th>\n",
       "      <td>Pria</td>\n",
       "      <td>19.0</td>\n",
       "      <td>SMA</td>\n",
       "      <td>Pelajar / Mahasiswa</td>\n",
       "      <td>&gt; Rp 10 juta</td>\n",
       "      <td>Surabaya</td>\n",
       "      <td>500%</td>\n",
       "      <td>Tidak</td>\n",
       "      <td>NaN</td>\n",
       "      <td>Mobile Banking</td>\n",
       "      <td>...</td>\n",
       "      <td>NaN</td>\n",
       "      <td>Kartu Kredit / Debit Online</td>\n",
       "      <td>Melalui minimarket</td>\n",
       "      <td>menggunakan fitur Paylater</td>\n",
       "      <td>Barang yang diperoleh tidak sesuai dengan spes...</td>\n",
       "      <td>NaN</td>\n",
       "      <td>Pembayaran sudah dilakukan; barang tidak tersedia</td>\n",
       "      <td>Jumlah barang yang diterima kurang</td>\n",
       "      <td>NaN</td>\n",
       "      <td>Saldo eMoney/ eWallet berkurang tanpa melakuka...</td>\n",
       "    </tr>\n",
       "  </tbody>\n",
       "</table>\n",
       "<p>5 rows × 150 columns</p>\n",
       "</div>"
      ],
      "text/plain": [
       "  Jenis Kelamin  Usia Pendidikan Terakhir            Pekerjaan  \\\n",
       "0          Pria  20.0                 SMA  Pelajar / Mahasiswa   \n",
       "1          Pria  24.0                  D3       Pegawai Negeri   \n",
       "2        Wanita  19.0                 SMA  Pelajar / Mahasiswa   \n",
       "3        Wanita  35.0                  S1     Ibu Rumah Tangga   \n",
       "4          Pria  19.0                 SMA  Pelajar / Mahasiswa   \n",
       "\n",
       "   Penghasilan per Bulan        Domisili  \\\n",
       "0            < Rp 2 juta           Bogor   \n",
       "1  Rp 2 juta – Rp 5 juta       Tangerang   \n",
       "2  Rp 2 juta – Rp 5 juta         Bandung   \n",
       "3            < Rp 2 juta  Sumatera Barat   \n",
       "4           > Rp 10 juta        Surabaya   \n",
       "\n",
       "  Durasi Penggunaan Internet per Hari (dalam Jam) Aktivitas Online Meningkat  \\\n",
       "0                                            500%                      Tidak   \n",
       "1                                            500%                      Tidak   \n",
       "2                                            700%                         Ya   \n",
       "3                                           1000%                         Ya   \n",
       "4                                            500%                      Tidak   \n",
       "\n",
       "  Aktivitas yang Meningkat dalam 3 Bulan Terakhir layanan_aktif_1  ...  \\\n",
       "0                                             NaN  Mobile Banking  ...   \n",
       "1                                             NaN  Mobile Banking  ...   \n",
       "2                              Akses media sosial  Mobile Banking  ...   \n",
       "3                              Akses media sosial  Mobile Banking  ...   \n",
       "4                                             NaN  Mobile Banking  ...   \n",
       "\n",
       "  cara_pembayaran_belanja_online_5 cara_pembayaran_belanja_online_6  \\\n",
       "0                 Transfer via ATM                              NaN   \n",
       "1                 Transfer via ATM      Kartu Kredit / Debit Online   \n",
       "2                              NaN                              NaN   \n",
       "3                              NaN                              NaN   \n",
       "4                              NaN      Kartu Kredit / Debit Online   \n",
       "\n",
       "  cara_pembayaran_belanja_online_7 cara_pembayaran_belanja_online_8  \\\n",
       "0                              NaN                              NaN   \n",
       "1                              NaN                              NaN   \n",
       "2                              NaN                              NaN   \n",
       "3                              NaN                              NaN   \n",
       "4               Melalui minimarket       menggunakan fitur Paylater   \n",
       "\n",
       "                            keluhan_belanja_online_1  \\\n",
       "0                                                NaN   \n",
       "1  Barang yang diperoleh tidak sesuai dengan spes...   \n",
       "2                                                NaN   \n",
       "3  Barang yang diperoleh tidak sesuai dengan spes...   \n",
       "4  Barang yang diperoleh tidak sesuai dengan spes...   \n",
       "\n",
       "                            keluhan_belanja_online_2  \\\n",
       "0                                                NaN   \n",
       "1  Barang rusak/ salah tetapi tidak dapat dikemba...   \n",
       "2                                                NaN   \n",
       "3                                                NaN   \n",
       "4                                                NaN   \n",
       "\n",
       "                            keluhan_belanja_online_3  \\\n",
       "0                                                NaN   \n",
       "1  Pembayaran sudah dilakukan; barang tidak tersedia   \n",
       "2                                                NaN   \n",
       "3                                                NaN   \n",
       "4  Pembayaran sudah dilakukan; barang tidak tersedia   \n",
       "\n",
       "             keluhan_belanja_online_4  \\\n",
       "0                                 NaN   \n",
       "1                                 NaN   \n",
       "2  Jumlah barang yang diterima kurang   \n",
       "3                                 NaN   \n",
       "4  Jumlah barang yang diterima kurang   \n",
       "\n",
       "                            keluhan_belanja_online_5  \\\n",
       "0                                                NaN   \n",
       "1  Pembayaran telah dilakukan tetapi tidak terdet...   \n",
       "2                                                NaN   \n",
       "3                                                NaN   \n",
       "4                                                NaN   \n",
       "\n",
       "                            keluhan_belanja_online_6  \n",
       "0                                                NaN  \n",
       "1                                                NaN  \n",
       "2                                                NaN  \n",
       "3                                                NaN  \n",
       "4  Saldo eMoney/ eWallet berkurang tanpa melakuka...  \n",
       "\n",
       "[5 rows x 150 columns]"
      ]
     },
     "execution_count": 3,
     "metadata": {},
     "output_type": "execute_result"
    }
   ],
   "source": [
    "# Preview 5 rows pertama dari dataset\n",
    "data.head()"
   ]
  },
  {
   "cell_type": "code",
   "execution_count": 4,
   "id": "8c50de71-2e9f-4c6f-b07d-6f63faac3126",
   "metadata": {},
   "outputs": [
    {
     "data": {
      "image/png": "[encoded data removed]",
      "text/plain": [
       "<Figure size 432x288 with 1 Axes>"
      ]
     },
     "metadata": {},
     "output_type": "display_data"
    }
   ],
   "source": [
    "# Pie chart proporsi jenis kelamin responden\n",
    "gender = data['Jenis Kelamin'].value_counts().reset_index()\n",
    "gender.columns = ['Jenis Kelamin', 'Frekuensi']\n",
    "pallete = sns.color_palette('pastel')\n",
    "explode = (0,0.1)\n",
    "plt.pie(gender['Frekuensi'], labels = gender['Jenis Kelamin'],colors = pallete, explode = explode, autopct = '%.0f%%', shadow = True)\n",
    "plt.title(label=\"Piechart Proporsi Jenis Kelamin Responden\", loc=\"left\", fontstyle='italic')\n",
    "plt.show()"
   ]
  },
  {
   "cell_type": "code",
   "execution_count": 5,
   "id": "7f73b838-aa4f-4fe2-be66-b2887daea2e5",
   "metadata": {},
   "outputs": [
    {
     "data": {
      "text/html": [
       "<div>\n",
       "<style scoped>\n",
       "    .dataframe tbody tr th:only-of-type {\n",
       "        vertical-align: middle;\n",
       "    }\n",
       "\n",
       "    .dataframe tbody tr th {\n",
       "        vertical-align: top;\n",
       "    }\n",
       "\n",
       "    .dataframe thead th {\n",
       "        text-align: right;\n",
       "    }\n",
       "</style>\n",
       "<table border=\"1\" class=\"dataframe\">\n",
       "  <thead>\n",
       "    <tr style=\"text-align: right;\">\n",
       "      <th></th>\n",
       "      <th>Jenis Kelamin</th>\n",
       "      <th>Frekuensi</th>\n",
       "      <th>Proporsi</th>\n",
       "    </tr>\n",
       "  </thead>\n",
       "  <tbody>\n",
       "    <tr>\n",
       "      <th>0</th>\n",
       "      <td>Wanita</td>\n",
       "      <td>165</td>\n",
       "      <td>0.553691</td>\n",
       "    </tr>\n",
       "    <tr>\n",
       "      <th>1</th>\n",
       "      <td>Pria</td>\n",
       "      <td>133</td>\n",
       "      <td>0.446309</td>\n",
       "    </tr>\n",
       "  </tbody>\n",
       "</table>\n",
       "</div>"
      ],
      "text/plain": [
       "  Jenis Kelamin  Frekuensi  Proporsi\n",
       "0        Wanita        165  0.553691\n",
       "1          Pria        133  0.446309"
      ]
     },
     "execution_count": 5,
     "metadata": {},
     "output_type": "execute_result"
    }
   ],
   "source": [
    "# Tabel frekuensi gender\n",
    "gender['Proporsi'] = (gender['Frekuensi']/gender['Frekuensi'].sum())\n",
    "gender"
   ]
  },
  {
   "cell_type": "code",
   "execution_count": 6,
   "id": "a1b003bf-c06c-4390-8ded-367a468bf8cc",
   "metadata": {},
   "outputs": [
    {
     "data": {
      "text/html": [
       "<div>\n",
       "<style scoped>\n",
       "    .dataframe tbody tr th:only-of-type {\n",
       "        vertical-align: middle;\n",
       "    }\n",
       "\n",
       "    .dataframe tbody tr th {\n",
       "        vertical-align: top;\n",
       "    }\n",
       "\n",
       "    .dataframe thead th {\n",
       "        text-align: right;\n",
       "    }\n",
       "</style>\n",
       "<table border=\"1\" class=\"dataframe\">\n",
       "  <thead>\n",
       "    <tr style=\"text-align: right;\">\n",
       "      <th></th>\n",
       "      <th>Jenis Kelamin</th>\n",
       "      <th>Usia</th>\n",
       "      <th>Pendidikan Terakhir</th>\n",
       "      <th>Pekerjaan</th>\n",
       "      <th>Penghasilan per Bulan</th>\n",
       "      <th>Domisili</th>\n",
       "      <th>Durasi Penggunaan Internet per Hari (dalam Jam)</th>\n",
       "      <th>Aktivitas Online Meningkat</th>\n",
       "      <th>Aktivitas yang Meningkat dalam 3 Bulan Terakhir</th>\n",
       "      <th>layanan_aktif_1</th>\n",
       "      <th>...</th>\n",
       "      <th>cara_pembayaran_belanja_online_5</th>\n",
       "      <th>cara_pembayaran_belanja_online_6</th>\n",
       "      <th>cara_pembayaran_belanja_online_7</th>\n",
       "      <th>cara_pembayaran_belanja_online_8</th>\n",
       "      <th>keluhan_belanja_online_1</th>\n",
       "      <th>keluhan_belanja_online_2</th>\n",
       "      <th>keluhan_belanja_online_3</th>\n",
       "      <th>keluhan_belanja_online_4</th>\n",
       "      <th>keluhan_belanja_online_5</th>\n",
       "      <th>keluhan_belanja_online_6</th>\n",
       "    </tr>\n",
       "  </thead>\n",
       "  <tbody>\n",
       "    <tr>\n",
       "      <th>158</th>\n",
       "      <td>Wanita</td>\n",
       "      <td>NaN</td>\n",
       "      <td>S1</td>\n",
       "      <td>Ibu Rumah Tangga</td>\n",
       "      <td>NaN</td>\n",
       "      <td>Depok</td>\n",
       "      <td>500%</td>\n",
       "      <td>Tidak</td>\n",
       "      <td>NaN</td>\n",
       "      <td>NaN</td>\n",
       "      <td>...</td>\n",
       "      <td>NaN</td>\n",
       "      <td>NaN</td>\n",
       "      <td>NaN</td>\n",
       "      <td>NaN</td>\n",
       "      <td>Barang yang diperoleh tidak sesuai dengan spes...</td>\n",
       "      <td>NaN</td>\n",
       "      <td>Pembayaran sudah dilakukan; barang tidak tersedia</td>\n",
       "      <td>Jumlah barang yang diterima kurang</td>\n",
       "      <td>Pembayaran telah dilakukan tetapi tidak terdet...</td>\n",
       "      <td>NaN</td>\n",
       "    </tr>\n",
       "    <tr>\n",
       "      <th>178</th>\n",
       "      <td>Wanita</td>\n",
       "      <td>NaN</td>\n",
       "      <td>SMA</td>\n",
       "      <td>Pelajar / Mahasiswa</td>\n",
       "      <td>&lt; Rp 2 juta</td>\n",
       "      <td>Jakarta</td>\n",
       "      <td>1500%</td>\n",
       "      <td>Ya</td>\n",
       "      <td>Mengikuti kelas online</td>\n",
       "      <td>NaN</td>\n",
       "      <td>...</td>\n",
       "      <td>Transfer via ATM</td>\n",
       "      <td>NaN</td>\n",
       "      <td>Melalui minimarket</td>\n",
       "      <td>NaN</td>\n",
       "      <td>NaN</td>\n",
       "      <td>Barang rusak/ salah tetapi tidak dapat dikemba...</td>\n",
       "      <td>Pembayaran sudah dilakukan; barang tidak tersedia</td>\n",
       "      <td>Jumlah barang yang diterima kurang</td>\n",
       "      <td>NaN</td>\n",
       "      <td>NaN</td>\n",
       "    </tr>\n",
       "  </tbody>\n",
       "</table>\n",
       "<p>2 rows × 150 columns</p>\n",
       "</div>"
      ],
      "text/plain": [
       "    Jenis Kelamin  Usia Pendidikan Terakhir            Pekerjaan  \\\n",
       "158        Wanita   NaN                  S1     Ibu Rumah Tangga   \n",
       "178        Wanita   NaN                 SMA  Pelajar / Mahasiswa   \n",
       "\n",
       "    Penghasilan per Bulan Domisili  \\\n",
       "158                   NaN    Depok   \n",
       "178           < Rp 2 juta  Jakarta   \n",
       "\n",
       "    Durasi Penggunaan Internet per Hari (dalam Jam)  \\\n",
       "158                                            500%   \n",
       "178                                           1500%   \n",
       "\n",
       "    Aktivitas Online Meningkat  \\\n",
       "158                      Tidak   \n",
       "178                         Ya   \n",
       "\n",
       "    Aktivitas yang Meningkat dalam 3 Bulan Terakhir layanan_aktif_1  ...  \\\n",
       "158                                             NaN             NaN  ...   \n",
       "178                          Mengikuti kelas online             NaN  ...   \n",
       "\n",
       "    cara_pembayaran_belanja_online_5 cara_pembayaran_belanja_online_6  \\\n",
       "158                              NaN                              NaN   \n",
       "178                 Transfer via ATM                              NaN   \n",
       "\n",
       "    cara_pembayaran_belanja_online_7 cara_pembayaran_belanja_online_8  \\\n",
       "158                              NaN                              NaN   \n",
       "178               Melalui minimarket                              NaN   \n",
       "\n",
       "                              keluhan_belanja_online_1  \\\n",
       "158  Barang yang diperoleh tidak sesuai dengan spes...   \n",
       "178                                                NaN   \n",
       "\n",
       "                              keluhan_belanja_online_2  \\\n",
       "158                                                NaN   \n",
       "178  Barang rusak/ salah tetapi tidak dapat dikemba...   \n",
       "\n",
       "                              keluhan_belanja_online_3  \\\n",
       "158  Pembayaran sudah dilakukan; barang tidak tersedia   \n",
       "178  Pembayaran sudah dilakukan; barang tidak tersedia   \n",
       "\n",
       "               keluhan_belanja_online_4  \\\n",
       "158  Jumlah barang yang diterima kurang   \n",
       "178  Jumlah barang yang diterima kurang   \n",
       "\n",
       "                              keluhan_belanja_online_5  \\\n",
       "158  Pembayaran telah dilakukan tetapi tidak terdet...   \n",
       "178                                                NaN   \n",
       "\n",
       "    keluhan_belanja_online_6  \n",
       "158                      NaN  \n",
       "178                      NaN  \n",
       "\n",
       "[2 rows x 150 columns]"
      ]
     },
     "execution_count": 6,
     "metadata": {},
     "output_type": "execute_result"
    }
   ],
   "source": [
    "# Filtering data dengan Usia NaN\n",
    "data[pd.isnull(data.Usia)]"
   ]
  },
  {
   "cell_type": "code",
   "execution_count": 7,
   "id": "59bf0968-1af0-4276-bbbb-c032543ca04c",
   "metadata": {},
   "outputs": [
    {
     "data": {
      "text/html": [
       "<div>\n",
       "<style scoped>\n",
       "    .dataframe tbody tr th:only-of-type {\n",
       "        vertical-align: middle;\n",
       "    }\n",
       "\n",
       "    .dataframe tbody tr th {\n",
       "        vertical-align: top;\n",
       "    }\n",
       "\n",
       "    .dataframe thead th {\n",
       "        text-align: right;\n",
       "    }\n",
       "</style>\n",
       "<table border=\"1\" class=\"dataframe\">\n",
       "  <thead>\n",
       "    <tr style=\"text-align: right;\">\n",
       "      <th></th>\n",
       "      <th>Jenis Kelamin</th>\n",
       "      <th>Usia</th>\n",
       "      <th>Pendidikan Terakhir</th>\n",
       "      <th>Pekerjaan</th>\n",
       "      <th>Penghasilan per Bulan</th>\n",
       "      <th>Domisili</th>\n",
       "      <th>Durasi Penggunaan Internet per Hari (dalam Jam)</th>\n",
       "      <th>Aktivitas Online Meningkat</th>\n",
       "      <th>Aktivitas yang Meningkat dalam 3 Bulan Terakhir</th>\n",
       "      <th>layanan_aktif_1</th>\n",
       "      <th>...</th>\n",
       "      <th>cara_pembayaran_belanja_online_5</th>\n",
       "      <th>cara_pembayaran_belanja_online_6</th>\n",
       "      <th>cara_pembayaran_belanja_online_7</th>\n",
       "      <th>cara_pembayaran_belanja_online_8</th>\n",
       "      <th>keluhan_belanja_online_1</th>\n",
       "      <th>keluhan_belanja_online_2</th>\n",
       "      <th>keluhan_belanja_online_3</th>\n",
       "      <th>keluhan_belanja_online_4</th>\n",
       "      <th>keluhan_belanja_online_5</th>\n",
       "      <th>keluhan_belanja_online_6</th>\n",
       "    </tr>\n",
       "  </thead>\n",
       "  <tbody>\n",
       "    <tr>\n",
       "      <th>299</th>\n",
       "      <td>Wanita</td>\n",
       "      <td>1977.0</td>\n",
       "      <td>S1</td>\n",
       "      <td>Ibu Rumah Tangga</td>\n",
       "      <td>Rp 2 juta – Rp 5 juta</td>\n",
       "      <td>Bogor</td>\n",
       "      <td>200%</td>\n",
       "      <td>Tidak</td>\n",
       "      <td>NaN</td>\n",
       "      <td>Mobile Banking</td>\n",
       "      <td>...</td>\n",
       "      <td>NaN</td>\n",
       "      <td>Kartu Kredit / Debit Online</td>\n",
       "      <td>NaN</td>\n",
       "      <td>NaN</td>\n",
       "      <td>Barang yang diperoleh tidak sesuai dengan spes...</td>\n",
       "      <td>NaN</td>\n",
       "      <td>NaN</td>\n",
       "      <td>NaN</td>\n",
       "      <td>NaN</td>\n",
       "      <td>NaN</td>\n",
       "    </tr>\n",
       "  </tbody>\n",
       "</table>\n",
       "<p>1 rows × 150 columns</p>\n",
       "</div>"
      ],
      "text/plain": [
       "    Jenis Kelamin    Usia Pendidikan Terakhir         Pekerjaan  \\\n",
       "299        Wanita  1977.0                  S1  Ibu Rumah Tangga   \n",
       "\n",
       "     Penghasilan per Bulan Domisili  \\\n",
       "299  Rp 2 juta – Rp 5 juta    Bogor   \n",
       "\n",
       "    Durasi Penggunaan Internet per Hari (dalam Jam)  \\\n",
       "299                                            200%   \n",
       "\n",
       "    Aktivitas Online Meningkat  \\\n",
       "299                      Tidak   \n",
       "\n",
       "    Aktivitas yang Meningkat dalam 3 Bulan Terakhir layanan_aktif_1  ...  \\\n",
       "299                                             NaN  Mobile Banking  ...   \n",
       "\n",
       "    cara_pembayaran_belanja_online_5 cara_pembayaran_belanja_online_6  \\\n",
       "299                              NaN      Kartu Kredit / Debit Online   \n",
       "\n",
       "    cara_pembayaran_belanja_online_7 cara_pembayaran_belanja_online_8  \\\n",
       "299                              NaN                              NaN   \n",
       "\n",
       "                              keluhan_belanja_online_1  \\\n",
       "299  Barang yang diperoleh tidak sesuai dengan spes...   \n",
       "\n",
       "    keluhan_belanja_online_2 keluhan_belanja_online_3  \\\n",
       "299                      NaN                      NaN   \n",
       "\n",
       "    keluhan_belanja_online_4 keluhan_belanja_online_5 keluhan_belanja_online_6  \n",
       "299                      NaN                      NaN                      NaN  \n",
       "\n",
       "[1 rows x 150 columns]"
      ]
     },
     "execution_count": 7,
     "metadata": {},
     "output_type": "execute_result"
    }
   ],
   "source": [
    "# Filtering data Usia yang anomali\n",
    "data.loc[data.Usia > 100]"
   ]
  },
  {
   "cell_type": "code",
   "execution_count": 8,
   "id": "93ecab54-64aa-4af1-8404-82365389c711",
   "metadata": {},
   "outputs": [],
   "source": [
    "# Terdapat 1 row data Usia yang anomali dengan asumsi value tersebut \n",
    "# merupakan tahun kelahiran"
   ]
  },
  {
   "cell_type": "code",
   "execution_count": 9,
   "id": "93582a6b-0a2a-4dce-bb53-6eabb3f73aef",
   "metadata": {},
   "outputs": [
    {
     "data": {
      "text/plain": [
       "Jenis Kelamin                              Wanita\n",
       "Usia                                         45.0\n",
       "Pendidikan Terakhir                            S1\n",
       "Pekerjaan                        Ibu Rumah Tangga\n",
       "Penghasilan per Bulan       Rp 2 juta – Rp 5 juta\n",
       "                                    ...          \n",
       "keluhan_belanja_online_2                      NaN\n",
       "keluhan_belanja_online_3                      NaN\n",
       "keluhan_belanja_online_4                      NaN\n",
       "keluhan_belanja_online_5                      NaN\n",
       "keluhan_belanja_online_6                      NaN\n",
       "Name: 299, Length: 150, dtype: object"
      ]
     },
     "execution_count": 9,
     "metadata": {},
     "output_type": "execute_result"
    }
   ],
   "source": [
    "# Convert value di kolom usia yang berupa tahun menjadi usia sekarang\n",
    "def yeartoAge(row) :\n",
    "    if row.Usia > 1900 :\n",
    "        row.Usia = 2022 - row.Usia\n",
    "        return row\n",
    "    else:\n",
    "        return row\n",
    "# Apply fungsi yearToAge ke data\n",
    "data = data.apply(yeartoAge, axis ='columns')\n",
    "# Cek data yang di konversi\n",
    "data.loc[299]"
   ]
  },
  {
   "cell_type": "code",
   "execution_count": 10,
   "id": "f54c0e5e-d652-4ab5-962d-fae16acadda9",
   "metadata": {},
   "outputs": [
    {
     "data": {
      "image/png": "[encoded data removed]",
      "text/plain": [
       "<Figure size 432x288 with 1 Axes>"
      ]
     },
     "metadata": {
      "needs_background": "light"
     },
     "output_type": "display_data"
    }
   ],
   "source": [
    "# Histogram Usia\n",
    "sns.histplot(data = data, x = 'Usia', bins=10)\n",
    "plt.title('Histogram Data Umur Responden')\n",
    "plt.show()"
   ]
  },
  {
   "cell_type": "code",
   "execution_count": 11,
   "id": "9db4d381-bb87-4fae-9b2a-cdf83e6d4145",
   "metadata": {},
   "outputs": [
    {
     "data": {
      "image/png": "[encoded data removed]",
      "text/plain": [
       "<Figure size 720x72 with 1 Axes>"
      ]
     },
     "metadata": {
      "needs_background": "light"
     },
     "output_type": "display_data"
    }
   ],
   "source": [
    "# Boxplot Usia\n",
    "plt.figure(figsize = (10,1))\n",
    "sns.boxplot(data = data, x = 'Usia')\n",
    "plt.title('Boxplot Data Umur Responden')\n",
    "plt.show()"
   ]
  },
  {
   "cell_type": "code",
   "execution_count": 12,
   "id": "a9ae03ae-258e-4f38-863b-0f0020b9de14",
   "metadata": {},
   "outputs": [
    {
     "data": {
      "text/plain": [
       "count    298.000000\n",
       "mean      28.912752\n",
       "std       13.418131\n",
       "min       16.000000\n",
       "25%       19.000000\n",
       "50%       20.000000\n",
       "75%       39.000000\n",
       "max       78.000000\n",
       "Name: Usia, dtype: float64"
      ]
     },
     "execution_count": 12,
     "metadata": {},
     "output_type": "execute_result"
    }
   ],
   "source": [
    "# Menggunakan describe()\n",
    "data['Usia'].describe()"
   ]
  },
  {
   "cell_type": "code",
   "execution_count": 13,
   "id": "f00b95f0-f772-42c4-87fb-30317bc7e49a",
   "metadata": {},
   "outputs": [
    {
     "data": {
      "text/plain": [
       "28.91275167785235"
      ]
     },
     "execution_count": 13,
     "metadata": {},
     "output_type": "execute_result"
    }
   ],
   "source": [
    "# Mean\n",
    "mean_usia = data.Usia.mean()\n",
    "mean_usia"
   ]
  },
  {
   "cell_type": "code",
   "execution_count": 14,
   "id": "d510abfb-c36a-47e9-808d-fd0288c5330b",
   "metadata": {},
   "outputs": [
    {
     "data": {
      "text/html": [
       "<div>\n",
       "<style scoped>\n",
       "    .dataframe tbody tr th:only-of-type {\n",
       "        vertical-align: middle;\n",
       "    }\n",
       "\n",
       "    .dataframe tbody tr th {\n",
       "        vertical-align: top;\n",
       "    }\n",
       "\n",
       "    .dataframe thead th {\n",
       "        text-align: right;\n",
       "    }\n",
       "</style>\n",
       "<table border=\"1\" class=\"dataframe\">\n",
       "  <thead>\n",
       "    <tr style=\"text-align: right;\">\n",
       "      <th></th>\n",
       "      <th>Quantile</th>\n",
       "      <th>Values</th>\n",
       "    </tr>\n",
       "  </thead>\n",
       "  <tbody>\n",
       "    <tr>\n",
       "      <th>Q1</th>\n",
       "      <td>0.25</td>\n",
       "      <td>19.0</td>\n",
       "    </tr>\n",
       "    <tr>\n",
       "      <th>Q2</th>\n",
       "      <td>0.50</td>\n",
       "      <td>20.0</td>\n",
       "    </tr>\n",
       "    <tr>\n",
       "      <th>Q3</th>\n",
       "      <td>0.75</td>\n",
       "      <td>39.0</td>\n",
       "    </tr>\n",
       "  </tbody>\n",
       "</table>\n",
       "</div>"
      ],
      "text/plain": [
       "    Quantile  Values\n",
       "Q1      0.25    19.0\n",
       "Q2      0.50    20.0\n",
       "Q3      0.75    39.0"
      ]
     },
     "execution_count": 14,
     "metadata": {},
     "output_type": "execute_result"
    }
   ],
   "source": [
    "# Q1, Q2, Q3\n",
    "quantile = data.Usia.quantile([0.25,0.5,0.75]).reset_index()\n",
    "quantile.columns = ['Quantile','Values']\n",
    "quantile.index = ['Q1','Q2','Q3']\n",
    "quantile"
   ]
  },
  {
   "cell_type": "code",
   "execution_count": 15,
   "id": "5f2f8a53-6f59-404e-bbb6-b96246bdc698",
   "metadata": {},
   "outputs": [
    {
     "data": {
      "text/html": [
       "<div>\n",
       "<style scoped>\n",
       "    .dataframe tbody tr th:only-of-type {\n",
       "        vertical-align: middle;\n",
       "    }\n",
       "\n",
       "    .dataframe tbody tr th {\n",
       "        vertical-align: top;\n",
       "    }\n",
       "\n",
       "    .dataframe thead th {\n",
       "        text-align: right;\n",
       "    }\n",
       "</style>\n",
       "<table border=\"1\" class=\"dataframe\">\n",
       "  <thead>\n",
       "    <tr style=\"text-align: right;\">\n",
       "      <th></th>\n",
       "      <th>Values</th>\n",
       "    </tr>\n",
       "  </thead>\n",
       "  <tbody>\n",
       "    <tr>\n",
       "      <th>min</th>\n",
       "      <td>16.0</td>\n",
       "    </tr>\n",
       "    <tr>\n",
       "      <th>max</th>\n",
       "      <td>78.0</td>\n",
       "    </tr>\n",
       "  </tbody>\n",
       "</table>\n",
       "</div>"
      ],
      "text/plain": [
       "     Values\n",
       "min    16.0\n",
       "max    78.0"
      ]
     },
     "execution_count": 15,
     "metadata": {},
     "output_type": "execute_result"
    }
   ],
   "source": [
    "# Min, Max\n",
    "min_usia = data.Usia.min()\n",
    "max_usia = data.Usia.max()\n",
    "dfminmax = pd.DataFrame({'Values' : [min_usia,max_usia]})\n",
    "dfminmax.index = ['min','max']\n",
    "dfminmax"
   ]
  },
  {
   "cell_type": "code",
   "execution_count": 16,
   "id": "8dd7d24f-0589-4cc6-bd1e-dff100a2b17d",
   "metadata": {},
   "outputs": [
    {
     "data": {
      "text/plain": [
       "(19.0, 39.0, 20.0)"
      ]
     },
     "execution_count": 16,
     "metadata": {},
     "output_type": "execute_result"
    }
   ],
   "source": [
    "# Identifikasi Q1, Q3, IQR (Q3-Q1)\n",
    "q1 = quantile.iloc[0,1]\n",
    "q3 = quantile.iloc[2,1]\n",
    "iqr = q3 - q1\n",
    "q1, q3, iqr"
   ]
  },
  {
   "cell_type": "code",
   "execution_count": 17,
   "id": "8b4b9bc6-1d8e-45e9-b15e-0004ef1c6273",
   "metadata": {},
   "outputs": [
    {
     "data": {
      "text/plain": [
       "'Outlier : <-11.0, 69.0>'"
      ]
     },
     "execution_count": 17,
     "metadata": {},
     "output_type": "execute_result"
    }
   ],
   "source": [
    "# Identifikasi range outlier\n",
    "f'Outlier : <{q1 - 1.5 * iqr}, {q3 + 1.5 * iqr}>'"
   ]
  },
  {
   "cell_type": "code",
   "execution_count": 18,
   "id": "ac4ab5dd-654c-4705-8681-cecdf9363719",
   "metadata": {},
   "outputs": [
    {
     "data": {
      "text/html": [
       "<div>\n",
       "<style scoped>\n",
       "    .dataframe tbody tr th:only-of-type {\n",
       "        vertical-align: middle;\n",
       "    }\n",
       "\n",
       "    .dataframe tbody tr th {\n",
       "        vertical-align: top;\n",
       "    }\n",
       "\n",
       "    .dataframe thead th {\n",
       "        text-align: right;\n",
       "    }\n",
       "</style>\n",
       "<table border=\"1\" class=\"dataframe\">\n",
       "  <thead>\n",
       "    <tr style=\"text-align: right;\">\n",
       "      <th></th>\n",
       "      <th>Jenis Kelamin</th>\n",
       "      <th>Usia</th>\n",
       "      <th>Pendidikan Terakhir</th>\n",
       "      <th>Pekerjaan</th>\n",
       "      <th>Penghasilan per Bulan</th>\n",
       "      <th>Domisili</th>\n",
       "      <th>Durasi Penggunaan Internet per Hari (dalam Jam)</th>\n",
       "      <th>Aktivitas Online Meningkat</th>\n",
       "      <th>Aktivitas yang Meningkat dalam 3 Bulan Terakhir</th>\n",
       "      <th>layanan_aktif_1</th>\n",
       "      <th>...</th>\n",
       "      <th>cara_pembayaran_belanja_online_5</th>\n",
       "      <th>cara_pembayaran_belanja_online_6</th>\n",
       "      <th>cara_pembayaran_belanja_online_7</th>\n",
       "      <th>cara_pembayaran_belanja_online_8</th>\n",
       "      <th>keluhan_belanja_online_1</th>\n",
       "      <th>keluhan_belanja_online_2</th>\n",
       "      <th>keluhan_belanja_online_3</th>\n",
       "      <th>keluhan_belanja_online_4</th>\n",
       "      <th>keluhan_belanja_online_5</th>\n",
       "      <th>keluhan_belanja_online_6</th>\n",
       "    </tr>\n",
       "  </thead>\n",
       "  <tbody>\n",
       "    <tr>\n",
       "      <th>75</th>\n",
       "      <td>Wanita</td>\n",
       "      <td>78.0</td>\n",
       "      <td>Bidan</td>\n",
       "      <td>Pensiunan PNS</td>\n",
       "      <td>Rp 2 juta – Rp 5 juta</td>\n",
       "      <td>Medan</td>\n",
       "      <td>100%</td>\n",
       "      <td>Tidak</td>\n",
       "      <td>NaN</td>\n",
       "      <td>NaN</td>\n",
       "      <td>...</td>\n",
       "      <td>Transfer via ATM</td>\n",
       "      <td>NaN</td>\n",
       "      <td>NaN</td>\n",
       "      <td>NaN</td>\n",
       "      <td>NaN</td>\n",
       "      <td>NaN</td>\n",
       "      <td>NaN</td>\n",
       "      <td>NaN</td>\n",
       "      <td>NaN</td>\n",
       "      <td>NaN</td>\n",
       "    </tr>\n",
       "  </tbody>\n",
       "</table>\n",
       "<p>1 rows × 150 columns</p>\n",
       "</div>"
      ],
      "text/plain": [
       "   Jenis Kelamin  Usia Pendidikan Terakhir      Pekerjaan  \\\n",
       "75        Wanita  78.0               Bidan  Pensiunan PNS   \n",
       "\n",
       "    Penghasilan per Bulan Domisili  \\\n",
       "75  Rp 2 juta – Rp 5 juta    Medan   \n",
       "\n",
       "   Durasi Penggunaan Internet per Hari (dalam Jam) Aktivitas Online Meningkat  \\\n",
       "75                                            100%                      Tidak   \n",
       "\n",
       "   Aktivitas yang Meningkat dalam 3 Bulan Terakhir layanan_aktif_1  ...  \\\n",
       "75                                             NaN             NaN  ...   \n",
       "\n",
       "   cara_pembayaran_belanja_online_5 cara_pembayaran_belanja_online_6  \\\n",
       "75                 Transfer via ATM                              NaN   \n",
       "\n",
       "   cara_pembayaran_belanja_online_7 cara_pembayaran_belanja_online_8  \\\n",
       "75                              NaN                              NaN   \n",
       "\n",
       "   keluhan_belanja_online_1 keluhan_belanja_online_2 keluhan_belanja_online_3  \\\n",
       "75                      NaN                      NaN                      NaN   \n",
       "\n",
       "   keluhan_belanja_online_4 keluhan_belanja_online_5 keluhan_belanja_online_6  \n",
       "75                      NaN                      NaN                      NaN  \n",
       "\n",
       "[1 rows x 150 columns]"
      ]
     },
     "execution_count": 18,
     "metadata": {},
     "output_type": "execute_result"
    }
   ],
   "source": [
    "# Filtering data outliers\n",
    "data[(data['Usia'] < -11.0) | (data['Usia'] > 69.0)]"
   ]
  },
  {
   "cell_type": "code",
   "execution_count": 19,
   "id": "491c76fa-bdde-4785-b764-0d64bf62082d",
   "metadata": {},
   "outputs": [
    {
     "data": {
      "text/html": [
       "<div>\n",
       "<style scoped>\n",
       "    .dataframe tbody tr th:only-of-type {\n",
       "        vertical-align: middle;\n",
       "    }\n",
       "\n",
       "    .dataframe tbody tr th {\n",
       "        vertical-align: top;\n",
       "    }\n",
       "\n",
       "    .dataframe thead th {\n",
       "        text-align: right;\n",
       "    }\n",
       "</style>\n",
       "<table border=\"1\" class=\"dataframe\">\n",
       "  <thead>\n",
       "    <tr style=\"text-align: right;\">\n",
       "      <th></th>\n",
       "      <th>Jenis Kelamin</th>\n",
       "      <th>Usia</th>\n",
       "      <th>Pendidikan Terakhir</th>\n",
       "      <th>Pekerjaan</th>\n",
       "      <th>Penghasilan per Bulan</th>\n",
       "      <th>Domisili</th>\n",
       "      <th>Durasi Penggunaan Internet per Hari (dalam Jam)</th>\n",
       "      <th>Aktivitas Online Meningkat</th>\n",
       "      <th>Aktivitas yang Meningkat dalam 3 Bulan Terakhir</th>\n",
       "      <th>layanan_aktif_1</th>\n",
       "      <th>...</th>\n",
       "      <th>cara_pembayaran_belanja_online_5</th>\n",
       "      <th>cara_pembayaran_belanja_online_6</th>\n",
       "      <th>cara_pembayaran_belanja_online_7</th>\n",
       "      <th>cara_pembayaran_belanja_online_8</th>\n",
       "      <th>keluhan_belanja_online_1</th>\n",
       "      <th>keluhan_belanja_online_2</th>\n",
       "      <th>keluhan_belanja_online_3</th>\n",
       "      <th>keluhan_belanja_online_4</th>\n",
       "      <th>keluhan_belanja_online_5</th>\n",
       "      <th>keluhan_belanja_online_6</th>\n",
       "    </tr>\n",
       "  </thead>\n",
       "  <tbody>\n",
       "  </tbody>\n",
       "</table>\n",
       "<p>0 rows × 150 columns</p>\n",
       "</div>"
      ],
      "text/plain": [
       "Empty DataFrame\n",
       "Columns: [Jenis Kelamin, Usia, Pendidikan Terakhir, Pekerjaan, Penghasilan per Bulan, Domisili, Durasi Penggunaan Internet per Hari (dalam Jam), Aktivitas Online Meningkat, Aktivitas yang Meningkat dalam 3 Bulan Terakhir, layanan_aktif_1, layanan_aktif_2, layanan_aktif_3, layanan_aktif_4, layanan_aktif_5, layanan_aktif_6, bank_1, bank_2, bank_3, bank_4, bank_5, bank_6, bank_7, 18. Bagaimana frekuensi penggunaan Channel Bank berikut? [ATM], 18. Bagaimana frekuensi penggunaan Channel Bank berikut? [Internet Banking ], 18. Bagaimana frekuensi penggunaan Channel Bank berikut? [Mobile Banking ], 18. Bagaimana frekuensi penggunaan Channel Bank berikut? [SMS Banking], 18. Bagaimana frekuensi penggunaan Channel Bank berikut? [Datang ke cabang bank], 19. Manakah channel/ layanan yang lebih Anda sukai ketika Anda akan menggunakan fitur-fitur layanan perbankan berikut? [Cek Saldo ], 19. Manakah channel/ layanan yang lebih Anda sukai ketika Anda akan menggunakan fitur-fitur layanan perbankan berikut? [Mutasi Rekening], 19. Manakah channel/ layanan yang lebih Anda sukai ketika Anda akan menggunakan fitur-fitur layanan perbankan berikut? [Transfer antar rekening (sesama bank)], 19. Manakah channel/ layanan yang lebih Anda sukai ketika Anda akan menggunakan fitur-fitur layanan perbankan berikut? [Transfer antar bank], 19. Manakah channel/ layanan yang lebih Anda sukai ketika Anda akan menggunakan fitur-fitur layanan perbankan berikut? [Pembelian Pulsa, eMoney atau voucher-voucher lain], 19. Manakah channel/ layanan yang lebih Anda sukai ketika Anda akan menggunakan fitur-fitur layanan perbankan berikut? [Pembayaran Tagihan], keluhan_1, keluhan_2, keluhan_3, keluhan_4, emoney_pilihan_1, emoney_pilihan_2, emoney_pilihan_3, emoney_pilihan_4, emoney_pilihan_5, emoney_pilihan_6, emoney_pilihan_7, emoney_pilihan_8, emoney_pilihan_9, emoney_pilihan_10, emoney_pilihan_11, alasan_pakai_emoney_1, alasan_pakai_emoney_2, alasan_pakai_emoney_3, alasan_pakai_emoney_4, alasan_pakai_emoney_5, penggunaan_emoney_1, penggunaan_emoney_2, penggunaan_emoney_3, penggunaan_emoney_4, penggunaan_emoney_5, penggunaan_emoney_6, penggunaan_emoney_7, penggunaan_emoney_8, penggunaan_emoney_9, penggunaan_emoney_10, cara_topup_emoney_1, cara_topup_emoney_2, cara_topup_emoney_3, cara_topup_emoney_4, cara_topup_emoney_5, cara_topup_emoney_6, cara_topup_emoney_7, 39. Berapa biasanya nominal Anda melakukan top up/ isi ulang?, 40. Berapa frekuensi top up/ Isi ulang ?, keluhan_emoney_1, keluhan_emoney_2, keluhan_emoney_3, keluhan_emoney_4, penggunaan_qr_1, penggunaan_qr_2, penggunaan_qr_3, penggunaan_qr_4, lokasi_qr_1, lokasi_qr_2, lokasi_qr_3, lokasi_qr_4, lokasi_qr_5, lokasi_qr_6, 45. Bagaimana frekuensi Anda melakukan belanja online dalam 6 bulan terakhir?, belanja_online_meningkat_6bln_terakhir_1, belanja_online_meningkat_6bln_terakhir_2, belanja_online_meningkat_6bln_terakhir_3, belanja_online_meningkat_6bln_terakhir_4, belanja_online_meningkat_6bln_terakhir_5, belanja_online_meningkat_6bln_terakhir_6, belanja_online_meningkat_6bln_terakhir_7, belanja_online_meningkat_6bln_terakhir_8, belanja_online_meningkat_6bln_terakhir_9, belanja_online_meningkat_6bln_terakhir_10, 47. Bagaimana kecenderungan Anda jika akan berbelanja hal-hal berikut? [fashion & mode], 47. Bagaimana kecenderungan Anda jika akan berbelanja hal-hal berikut? [groceries / keperluan sehari- hari], 47. Bagaimana kecenderungan Anda jika akan berbelanja hal-hal berikut? [handphone], ...]\n",
       "Index: []\n",
       "\n",
       "[0 rows x 150 columns]"
      ]
     },
     "execution_count": 19,
     "metadata": {},
     "output_type": "execute_result"
    }
   ],
   "source": [
    "# Cleansing data outliers\n",
    "indexAge = data[ (data['Usia'] < -11) | (data['Usia'] > 69) ].index\n",
    "data.drop(indexAge, inplace=True)\n",
    "# Filtering data outliers\n",
    "data[(data['Usia'] < -11.0) | (data['Usia'] > 69.0)]"
   ]
  },
  {
   "cell_type": "code",
   "execution_count": 20,
   "id": "104a946b-9ba3-4abb-8533-f3d8715b1f5d",
   "metadata": {},
   "outputs": [
    {
     "data": {
      "image/png": "[encoded data removed]",
      "text/plain": [
       "<Figure size 720x720 with 1 Axes>"
      ]
     },
     "metadata": {
      "needs_background": "light"
     },
     "output_type": "display_data"
    }
   ],
   "source": [
    "# Barchart frekuensi profesi responden\n",
    "plt.figure(figsize = (10,10))\n",
    "frek_profesi = data['Pekerjaan'].value_counts().reset_index()\n",
    "frek_profesi.columns = ['Profesi','Frekuensi']\n",
    "profesi = sns.barplot(x='Frekuensi', y='Profesi', data=frek_profesi)\n",
    "plt.title(label=\"Barchart Frekuensi Profesi Responden\", loc=\"left\", fontstyle='italic')\n",
    "plt.show()"
   ]
  },
  {
   "cell_type": "code",
   "execution_count": 21,
   "id": "29cec979-8709-4435-8fcc-4c4d1a7469da",
   "metadata": {},
   "outputs": [
    {
     "data": {
      "text/html": [
       "<div>\n",
       "<style scoped>\n",
       "    .dataframe tbody tr th:only-of-type {\n",
       "        vertical-align: middle;\n",
       "    }\n",
       "\n",
       "    .dataframe tbody tr th {\n",
       "        vertical-align: top;\n",
       "    }\n",
       "\n",
       "    .dataframe thead th {\n",
       "        text-align: right;\n",
       "    }\n",
       "</style>\n",
       "<table border=\"1\" class=\"dataframe\">\n",
       "  <thead>\n",
       "    <tr style=\"text-align: right;\">\n",
       "      <th></th>\n",
       "      <th>Profesi</th>\n",
       "      <th>Frekuensi</th>\n",
       "      <th>Proporsi</th>\n",
       "    </tr>\n",
       "  </thead>\n",
       "  <tbody>\n",
       "    <tr>\n",
       "      <th>0</th>\n",
       "      <td>Pelajar / Mahasiswa</td>\n",
       "      <td>165</td>\n",
       "      <td>0.551839</td>\n",
       "    </tr>\n",
       "    <tr>\n",
       "      <th>1</th>\n",
       "      <td>Karyawan Swasta</td>\n",
       "      <td>74</td>\n",
       "      <td>0.247492</td>\n",
       "    </tr>\n",
       "    <tr>\n",
       "      <th>2</th>\n",
       "      <td>Ibu Rumah Tangga</td>\n",
       "      <td>20</td>\n",
       "      <td>0.066890</td>\n",
       "    </tr>\n",
       "    <tr>\n",
       "      <th>3</th>\n",
       "      <td>Pegawai Negeri</td>\n",
       "      <td>13</td>\n",
       "      <td>0.043478</td>\n",
       "    </tr>\n",
       "    <tr>\n",
       "      <th>4</th>\n",
       "      <td>Pengusaha</td>\n",
       "      <td>9</td>\n",
       "      <td>0.030100</td>\n",
       "    </tr>\n",
       "    <tr>\n",
       "      <th>5</th>\n",
       "      <td>Profesional ( Dokter, Dosen, Pengacara, dll)</td>\n",
       "      <td>7</td>\n",
       "      <td>0.023411</td>\n",
       "    </tr>\n",
       "    <tr>\n",
       "      <th>6</th>\n",
       "      <td>Pegawai BUMN</td>\n",
       "      <td>2</td>\n",
       "      <td>0.006689</td>\n",
       "    </tr>\n",
       "    <tr>\n",
       "      <th>7</th>\n",
       "      <td>Wiraswasta</td>\n",
       "      <td>2</td>\n",
       "      <td>0.006689</td>\n",
       "    </tr>\n",
       "    <tr>\n",
       "      <th>8</th>\n",
       "      <td>Mahasiswa S3 UM</td>\n",
       "      <td>1</td>\n",
       "      <td>0.003344</td>\n",
       "    </tr>\n",
       "    <tr>\n",
       "      <th>9</th>\n",
       "      <td>PEGAWAI</td>\n",
       "      <td>1</td>\n",
       "      <td>0.003344</td>\n",
       "    </tr>\n",
       "    <tr>\n",
       "      <th>10</th>\n",
       "      <td>Perawat</td>\n",
       "      <td>1</td>\n",
       "      <td>0.003344</td>\n",
       "    </tr>\n",
       "    <tr>\n",
       "      <th>11</th>\n",
       "      <td>Purnabakti pns</td>\n",
       "      <td>1</td>\n",
       "      <td>0.003344</td>\n",
       "    </tr>\n",
       "    <tr>\n",
       "      <th>12</th>\n",
       "      <td>WiraSwasta</td>\n",
       "      <td>1</td>\n",
       "      <td>0.003344</td>\n",
       "    </tr>\n",
       "    <tr>\n",
       "      <th>13</th>\n",
       "      <td>PENSIUNAN</td>\n",
       "      <td>1</td>\n",
       "      <td>0.003344</td>\n",
       "    </tr>\n",
       "    <tr>\n",
       "      <th>14</th>\n",
       "      <td>BUMN</td>\n",
       "      <td>1</td>\n",
       "      <td>0.003344</td>\n",
       "    </tr>\n",
       "  </tbody>\n",
       "</table>\n",
       "</div>"
      ],
      "text/plain": [
       "                                         Profesi  Frekuensi  Proporsi\n",
       "0                            Pelajar / Mahasiswa        165  0.551839\n",
       "1                                Karyawan Swasta         74  0.247492\n",
       "2                               Ibu Rumah Tangga         20  0.066890\n",
       "3                                 Pegawai Negeri         13  0.043478\n",
       "4                                      Pengusaha          9  0.030100\n",
       "5   Profesional ( Dokter, Dosen, Pengacara, dll)          7  0.023411\n",
       "6                                   Pegawai BUMN          2  0.006689\n",
       "7                                     Wiraswasta          2  0.006689\n",
       "8                                Mahasiswa S3 UM          1  0.003344\n",
       "9                                        PEGAWAI          1  0.003344\n",
       "10                                       Perawat          1  0.003344\n",
       "11                                Purnabakti pns          1  0.003344\n",
       "12                                    WiraSwasta          1  0.003344\n",
       "13                                     PENSIUNAN          1  0.003344\n",
       "14                                          BUMN          1  0.003344"
      ]
     },
     "execution_count": 21,
     "metadata": {},
     "output_type": "execute_result"
    }
   ],
   "source": [
    "# Tabel frekuensi profesi\n",
    "frek_profesi['Proporsi'] = (frek_profesi['Frekuensi']/frek_profesi.Frekuensi.sum())\n",
    "frek_profesi"
   ]
  },
  {
   "cell_type": "code",
   "execution_count": 22,
   "id": "a2bd2a85-8fad-4cd6-98ca-957dfee851df",
   "metadata": {},
   "outputs": [
    {
     "data": {
      "image/png": "[encoded data removed]",
      "text/plain": [
       "<Figure size 432x288 with 1 Axes>"
      ]
     },
     "metadata": {},
     "output_type": "display_data"
    }
   ],
   "source": [
    "# Pie chart proporsi aktivitas online responden 3 bulan terakhir\n",
    "aktivitas_online = data['Aktivitas Online Meningkat'].value_counts().reset_index()\n",
    "aktivitas_online.columns = ['Peningkatan','Frekuensi']\n",
    "pallete = sns.color_palette('pastel')\n",
    "explode = (0.1,0,0)\n",
    "plt.pie(aktivitas_online['Frekuensi'], labels = aktivitas_online['Peningkatan'],colors = pallete, explode = explode, autopct = '%.0f%%', shadow = True)\n",
    "plt.title(label=\"Piechart Proporsi Peningkatan Aktivitas Online Responden 3 Bulan Terakhir\", loc=\"left\", fontstyle='italic')\n",
    "plt.show()"
   ]
  },
  {
   "cell_type": "code",
   "execution_count": 23,
   "id": "0aafb954-41fb-4907-be15-019b5ea83d7c",
   "metadata": {},
   "outputs": [
    {
     "data": {
      "text/html": [
       "<div>\n",
       "<style scoped>\n",
       "    .dataframe tbody tr th:only-of-type {\n",
       "        vertical-align: middle;\n",
       "    }\n",
       "\n",
       "    .dataframe tbody tr th {\n",
       "        vertical-align: top;\n",
       "    }\n",
       "\n",
       "    .dataframe thead th {\n",
       "        text-align: right;\n",
       "    }\n",
       "</style>\n",
       "<table border=\"1\" class=\"dataframe\">\n",
       "  <thead>\n",
       "    <tr style=\"text-align: right;\">\n",
       "      <th></th>\n",
       "      <th>Peningkatan</th>\n",
       "      <th>Frekuensi</th>\n",
       "      <th>Proporsi</th>\n",
       "    </tr>\n",
       "  </thead>\n",
       "  <tbody>\n",
       "    <tr>\n",
       "      <th>0</th>\n",
       "      <td>Ya</td>\n",
       "      <td>147</td>\n",
       "      <td>0.491639</td>\n",
       "    </tr>\n",
       "    <tr>\n",
       "      <th>1</th>\n",
       "      <td>Sama saja</td>\n",
       "      <td>107</td>\n",
       "      <td>0.357860</td>\n",
       "    </tr>\n",
       "    <tr>\n",
       "      <th>2</th>\n",
       "      <td>Tidak</td>\n",
       "      <td>45</td>\n",
       "      <td>0.150502</td>\n",
       "    </tr>\n",
       "  </tbody>\n",
       "</table>\n",
       "</div>"
      ],
      "text/plain": [
       "  Peningkatan  Frekuensi  Proporsi\n",
       "0          Ya        147  0.491639\n",
       "1   Sama saja        107  0.357860\n",
       "2       Tidak         45  0.150502"
      ]
     },
     "execution_count": 23,
     "metadata": {},
     "output_type": "execute_result"
    }
   ],
   "source": [
    "# Tabel frekuensi aktivitas online responden 3 bulan terakhir\n",
    "aktivitas_online['Proporsi'] = (aktivitas_online['Frekuensi']/aktivitas_online.Frekuensi.sum())\n",
    "aktivitas_online"
   ]
  },
  {
   "cell_type": "code",
   "execution_count": 24,
   "id": "66903087-3b74-476c-a974-70ae3f509cf6",
   "metadata": {},
   "outputs": [
    {
     "data": {
      "text/html": [
       "<div>\n",
       "<style scoped>\n",
       "    .dataframe tbody tr th:only-of-type {\n",
       "        vertical-align: middle;\n",
       "    }\n",
       "\n",
       "    .dataframe tbody tr th {\n",
       "        vertical-align: top;\n",
       "    }\n",
       "\n",
       "    .dataframe thead th {\n",
       "        text-align: right;\n",
       "    }\n",
       "</style>\n",
       "<table border=\"1\" class=\"dataframe\">\n",
       "  <thead>\n",
       "    <tr style=\"text-align: right;\">\n",
       "      <th></th>\n",
       "      <th>bank_1</th>\n",
       "      <th>bank_2</th>\n",
       "      <th>bank_3</th>\n",
       "      <th>bank_4</th>\n",
       "      <th>bank_5</th>\n",
       "      <th>bank_6</th>\n",
       "      <th>bank_7</th>\n",
       "    </tr>\n",
       "  </thead>\n",
       "  <tbody>\n",
       "    <tr>\n",
       "      <th>0</th>\n",
       "      <td>NaN</td>\n",
       "      <td>Bank Mandiri</td>\n",
       "      <td>NaN</td>\n",
       "      <td>NaN</td>\n",
       "      <td>NaN</td>\n",
       "      <td>NaN</td>\n",
       "      <td>NaN</td>\n",
       "    </tr>\n",
       "    <tr>\n",
       "      <th>1</th>\n",
       "      <td>Bank BNI</td>\n",
       "      <td>NaN</td>\n",
       "      <td>NaN</td>\n",
       "      <td>NaN</td>\n",
       "      <td>NaN</td>\n",
       "      <td>NaN</td>\n",
       "      <td>NaN</td>\n",
       "    </tr>\n",
       "    <tr>\n",
       "      <th>2</th>\n",
       "      <td>NaN</td>\n",
       "      <td>NaN</td>\n",
       "      <td>Bank BCA</td>\n",
       "      <td>NaN</td>\n",
       "      <td>NaN</td>\n",
       "      <td>NaN</td>\n",
       "      <td>NaN</td>\n",
       "    </tr>\n",
       "    <tr>\n",
       "      <th>3</th>\n",
       "      <td>NaN</td>\n",
       "      <td>NaN</td>\n",
       "      <td>NaN</td>\n",
       "      <td>NaN</td>\n",
       "      <td>Bank BRI</td>\n",
       "      <td>NaN</td>\n",
       "      <td>NaN</td>\n",
       "    </tr>\n",
       "    <tr>\n",
       "      <th>4</th>\n",
       "      <td>NaN</td>\n",
       "      <td>NaN</td>\n",
       "      <td>Bank BCA</td>\n",
       "      <td>NaN</td>\n",
       "      <td>NaN</td>\n",
       "      <td>NaN</td>\n",
       "      <td>NaN</td>\n",
       "    </tr>\n",
       "    <tr>\n",
       "      <th>...</th>\n",
       "      <td>...</td>\n",
       "      <td>...</td>\n",
       "      <td>...</td>\n",
       "      <td>...</td>\n",
       "      <td>...</td>\n",
       "      <td>...</td>\n",
       "      <td>...</td>\n",
       "    </tr>\n",
       "    <tr>\n",
       "      <th>295</th>\n",
       "      <td>NaN</td>\n",
       "      <td>Bank Mandiri</td>\n",
       "      <td>Bank BCA</td>\n",
       "      <td>NaN</td>\n",
       "      <td>NaN</td>\n",
       "      <td>NaN</td>\n",
       "      <td>NaN</td>\n",
       "    </tr>\n",
       "    <tr>\n",
       "      <th>296</th>\n",
       "      <td>NaN</td>\n",
       "      <td>Bank Mandiri</td>\n",
       "      <td>NaN</td>\n",
       "      <td>NaN</td>\n",
       "      <td>NaN</td>\n",
       "      <td>NaN</td>\n",
       "      <td>NaN</td>\n",
       "    </tr>\n",
       "    <tr>\n",
       "      <th>297</th>\n",
       "      <td>NaN</td>\n",
       "      <td>NaN</td>\n",
       "      <td>Bank BCA</td>\n",
       "      <td>NaN</td>\n",
       "      <td>NaN</td>\n",
       "      <td>NaN</td>\n",
       "      <td>NaN</td>\n",
       "    </tr>\n",
       "    <tr>\n",
       "      <th>298</th>\n",
       "      <td>NaN</td>\n",
       "      <td>NaN</td>\n",
       "      <td>NaN</td>\n",
       "      <td>NaN</td>\n",
       "      <td>Bank BRI</td>\n",
       "      <td>NaN</td>\n",
       "      <td>NaN</td>\n",
       "    </tr>\n",
       "    <tr>\n",
       "      <th>299</th>\n",
       "      <td>Bank BNI</td>\n",
       "      <td>NaN</td>\n",
       "      <td>NaN</td>\n",
       "      <td>NaN</td>\n",
       "      <td>NaN</td>\n",
       "      <td>NaN</td>\n",
       "      <td>NaN</td>\n",
       "    </tr>\n",
       "  </tbody>\n",
       "</table>\n",
       "<p>299 rows × 7 columns</p>\n",
       "</div>"
      ],
      "text/plain": [
       "       bank_1        bank_2    bank_3 bank_4    bank_5 bank_6 bank_7\n",
       "0         NaN  Bank Mandiri       NaN    NaN       NaN    NaN    NaN\n",
       "1    Bank BNI           NaN       NaN    NaN       NaN    NaN    NaN\n",
       "2         NaN           NaN  Bank BCA    NaN       NaN    NaN    NaN\n",
       "3         NaN           NaN       NaN    NaN  Bank BRI    NaN    NaN\n",
       "4         NaN           NaN  Bank BCA    NaN       NaN    NaN    NaN\n",
       "..        ...           ...       ...    ...       ...    ...    ...\n",
       "295       NaN  Bank Mandiri  Bank BCA    NaN       NaN    NaN    NaN\n",
       "296       NaN  Bank Mandiri       NaN    NaN       NaN    NaN    NaN\n",
       "297       NaN           NaN  Bank BCA    NaN       NaN    NaN    NaN\n",
       "298       NaN           NaN       NaN    NaN  Bank BRI    NaN    NaN\n",
       "299  Bank BNI           NaN       NaN    NaN       NaN    NaN    NaN\n",
       "\n",
       "[299 rows x 7 columns]"
      ]
     },
     "execution_count": 24,
     "metadata": {},
     "output_type": "execute_result"
    }
   ],
   "source": [
    "# Preview data pengguna 7 bank\n",
    "bank = data.iloc[:, 15:22]\n",
    "bank"
   ]
  },
  {
   "cell_type": "code",
   "execution_count": 25,
   "id": "51b57180-6871-46fd-86db-8c264958c131",
   "metadata": {},
   "outputs": [
    {
     "data": {
      "image/png": "[encoded data removed]",
      "text/plain": [
       "<Figure size 864x360 with 1 Axes>"
      ]
     },
     "metadata": {
      "needs_background": "light"
     },
     "output_type": "display_data"
    }
   ],
   "source": [
    "# Merge 7 columns bank menjadi 1\n",
    "a = []\n",
    "for col in bank.columns :\n",
    "    a += list(data[col])\n",
    "\n",
    "# Barchart frekuensi pengguna bank\n",
    "dfbank = pd.DataFrame(pd.Series(a).value_counts()).reset_index()\n",
    "dfbank.columns = ['Bank','Frekuensi']\n",
    "plt.figure(figsize = (12,5))\n",
    "plot_bank = sns.barplot(y='Frekuensi', x='Bank',data=dfbank)\n",
    "plt.title(label=\"Barchart Frekuensi Pengguna Bank\", loc=\"left\", fontstyle='italic')\n",
    "plt.show()"
   ]
  },
  {
   "cell_type": "code",
   "execution_count": 26,
   "id": "98278c3a-6079-4c37-a2f0-63f0a9f5eec9",
   "metadata": {},
   "outputs": [
    {
     "data": {
      "text/plain": [
       "299"
      ]
     },
     "execution_count": 26,
     "metadata": {},
     "output_type": "execute_result"
    }
   ],
   "source": [
    "# Identifikasi jumlah sampel\n",
    "n = len(data)\n",
    "n"
   ]
  },
  {
   "cell_type": "code",
   "execution_count": 27,
   "id": "61173467-499a-4779-ab2f-5980a59f60a6",
   "metadata": {},
   "outputs": [
    {
     "data": {
      "text/html": [
       "<div>\n",
       "<style scoped>\n",
       "    .dataframe tbody tr th:only-of-type {\n",
       "        vertical-align: middle;\n",
       "    }\n",
       "\n",
       "    .dataframe tbody tr th {\n",
       "        vertical-align: top;\n",
       "    }\n",
       "\n",
       "    .dataframe thead th {\n",
       "        text-align: right;\n",
       "    }\n",
       "</style>\n",
       "<table border=\"1\" class=\"dataframe\">\n",
       "  <thead>\n",
       "    <tr style=\"text-align: right;\">\n",
       "      <th></th>\n",
       "      <th>Bank</th>\n",
       "      <th>Frekuensi</th>\n",
       "      <th>Proporsi</th>\n",
       "    </tr>\n",
       "  </thead>\n",
       "  <tbody>\n",
       "    <tr>\n",
       "      <th>0</th>\n",
       "      <td>Bank BCA</td>\n",
       "      <td>148</td>\n",
       "      <td>0.494983</td>\n",
       "    </tr>\n",
       "    <tr>\n",
       "      <th>1</th>\n",
       "      <td>Bank Mandiri</td>\n",
       "      <td>93</td>\n",
       "      <td>0.311037</td>\n",
       "    </tr>\n",
       "    <tr>\n",
       "      <th>2</th>\n",
       "      <td>Bank BNI</td>\n",
       "      <td>77</td>\n",
       "      <td>0.257525</td>\n",
       "    </tr>\n",
       "    <tr>\n",
       "      <th>3</th>\n",
       "      <td>Bank BRI</td>\n",
       "      <td>62</td>\n",
       "      <td>0.207358</td>\n",
       "    </tr>\n",
       "    <tr>\n",
       "      <th>4</th>\n",
       "      <td>Bank CIMB Niaga</td>\n",
       "      <td>12</td>\n",
       "      <td>0.040134</td>\n",
       "    </tr>\n",
       "    <tr>\n",
       "      <th>5</th>\n",
       "      <td>Bank Permata</td>\n",
       "      <td>7</td>\n",
       "      <td>0.023411</td>\n",
       "    </tr>\n",
       "    <tr>\n",
       "      <th>6</th>\n",
       "      <td>Bank BTN</td>\n",
       "      <td>5</td>\n",
       "      <td>0.016722</td>\n",
       "    </tr>\n",
       "  </tbody>\n",
       "</table>\n",
       "</div>"
      ],
      "text/plain": [
       "              Bank  Frekuensi  Proporsi\n",
       "0         Bank BCA        148  0.494983\n",
       "1     Bank Mandiri         93  0.311037\n",
       "2         Bank BNI         77  0.257525\n",
       "3         Bank BRI         62  0.207358\n",
       "4  Bank CIMB Niaga         12  0.040134\n",
       "5     Bank Permata          7  0.023411\n",
       "6         Bank BTN          5  0.016722"
      ]
     },
     "execution_count": 27,
     "metadata": {},
     "output_type": "execute_result"
    }
   ],
   "source": [
    "dfbank['Proporsi'] = (dfbank['Frekuensi']/n)\n",
    "dfbank"
   ]
  },
  {
   "cell_type": "code",
   "execution_count": 28,
   "id": "d31294d7-d28c-4dda-8794-edc28bb77f2c",
   "metadata": {},
   "outputs": [
    {
     "data": {
      "text/plain": [
       "0.49498327759197325"
      ]
     },
     "execution_count": 28,
     "metadata": {},
     "output_type": "execute_result"
    }
   ],
   "source": [
    "# Confidence interval pengguna bank BCA\n",
    "alpha = 1 - 0.95\n",
    "# Proporsi pengguna bank BCA\n",
    "p_bca = dfbank['Proporsi'][0]\n",
    "p_bca"
   ]
  },
  {
   "cell_type": "code",
   "execution_count": 29,
   "id": "a7e1e8e0-e8ce-4734-9891-b238a8b3a6a4",
   "metadata": {},
   "outputs": [
    {
     "data": {
      "text/plain": [
       "1.959963984540054"
      ]
     },
     "execution_count": 29,
     "metadata": {},
     "output_type": "execute_result"
    }
   ],
   "source": [
    "# Z alpha/2 bank BCA\n",
    "z_alpha_per_2_bca = st.norm.ppf(1-alpha/2)\n",
    "z_alpha_per_2_bca"
   ]
  },
  {
   "cell_type": "code",
   "execution_count": 30,
   "id": "de5f60c3-6164-4470-bbfc-862070d609a1",
   "metadata": {},
   "outputs": [
    {
     "data": {
      "text/plain": [
       "'confidence interval : 0.43831230842224134 < Pbca < 0.5516542467617052'"
      ]
     },
     "execution_count": 30,
     "metadata": {},
     "output_type": "execute_result"
    }
   ],
   "source": [
    "# confidence interval\n",
    "lb_bca = p_bca - z_alpha_per_2_bca * (p_bca * (1 - p_bca)/n)**0.5\n",
    "ub_bca = p_bca + z_alpha_per_2_bca * (p_bca * (1 - p_bca)/n)**0.5\n",
    "\n",
    "f'confidence interval : {lb_bca} < Pbca < {ub_bca}'"
   ]
  },
  {
   "cell_type": "code",
   "execution_count": 31,
   "id": "3fe46e77-78a7-4e83-8bb3-9653dc72b52e",
   "metadata": {},
   "outputs": [
    {
     "data": {
      "text/plain": [
       "-0.17349447958987207"
      ]
     },
     "execution_count": 31,
     "metadata": {},
     "output_type": "execute_result"
    }
   ],
   "source": [
    "# Uji hipotesis (BCA)\n",
    "# H0 : Pbca = 0.5\n",
    "# H1 : Pbca != 0.5\n",
    "# a = 5%\n",
    "p0_bca = 0.5\n",
    "# Z BCA\n",
    "Z_bca = (n*p_bca - n*p0_bca) / ((n*p0_bca*(1-p0_bca))**0.5)\n",
    "Z_bca"
   ]
  },
  {
   "cell_type": "code",
   "execution_count": 32,
   "id": "025da7ae-5d49-4d1c-864d-0ed4161ca2f4",
   "metadata": {},
   "outputs": [
    {
     "name": "stdout",
     "output_type": "stream",
     "text": [
      "Crit Region: Z < -1.96, Z > 1.96\n",
      "Kesimpulan: Z di luar crit regoin, H0 gagal di tolak\n"
     ]
    }
   ],
   "source": [
    "# Kesimpulan uji hipotesis\n",
    "bool_bca = (Z_bca < (-z_alpha_per_2_bca)) | (Z_bca > z_alpha_per_2_bca)\n",
    "print(f'Crit Region: Z < -{z_alpha_per_2_bca:.2f}, Z > {z_alpha_per_2_bca:.2f}')\n",
    "if bool_bca :\n",
    "    print(\"Kesimpulan: Z di dalam crit region, H0 di tolak \")\n",
    "else :\n",
    "    print(\"Kesimpulan: Z di luar crit regoin, H0 gagal di tolak\")"
   ]
  },
  {
   "cell_type": "code",
   "execution_count": 33,
   "id": "d06aabf3-2e1a-4710-a515-5c35af6ad38e",
   "metadata": {},
   "outputs": [
    {
     "data": {
      "text/plain": [
       "0.8622627667345217"
      ]
     },
     "execution_count": 33,
     "metadata": {},
     "output_type": "execute_result"
    }
   ],
   "source": [
    "# P value uji hipotesis 2 arah\n",
    "pvalue_bca = 2*(1-st.norm.cdf(abs(Z_bca)))\n",
    "pvalue_bca"
   ]
  },
  {
   "cell_type": "code",
   "execution_count": 34,
   "id": "d2af4807-f759-4254-98ce-25ee58793418",
   "metadata": {},
   "outputs": [
    {
     "data": {
      "text/plain": [
       "0      Internet Banking\n",
       "1        Mobile Banking\n",
       "2        Mobile Banking\n",
       "3        Mobile Banking\n",
       "4        Mobile Banking\n",
       "             ...       \n",
       "295      Mobile Banking\n",
       "296      Mobile Banking\n",
       "297      Mobile Banking\n",
       "298      Mobile Banking\n",
       "299      Mobile Banking\n",
       "Name: 19. Manakah channel/ layanan yang lebih Anda sukai ketika Anda akan menggunakan fitur-fitur layanan perbankan berikut? [Transfer antar bank], Length: 299, dtype: object"
      ]
     },
     "execution_count": 34,
     "metadata": {},
     "output_type": "execute_result"
    }
   ],
   "source": [
    "# Frekuensi preferensi channel transfer antar bank\n",
    "# Preview data\n",
    "data.iloc[:,30]"
   ]
  },
  {
   "cell_type": "code",
   "execution_count": 35,
   "id": "65fb6da3-4f66-4fc3-bdd5-2041046f262e",
   "metadata": {},
   "outputs": [
    {
     "data": {
      "image/png": "[encoded data removed]",
      "text/plain": [
       "<Figure size 720x360 with 1 Axes>"
      ]
     },
     "metadata": {
      "needs_background": "light"
     },
     "output_type": "display_data"
    }
   ],
   "source": [
    "# Barchart frekuensi prefensi channel untuk melakukan Transfer antar bank\n",
    "tf_antar_bank = data.iloc[:,30].value_counts().reset_index()\n",
    "tf_antar_bank.columns = ['Channel','Frekuensi']\n",
    "plt.figure(figsize = (10,5))\n",
    "sns.barplot(y='Frekuensi', x='Channel', data=tf_antar_bank)\n",
    "plt.title(label=\"Barchart Frekuensi Preferensi Channel Untuk Melakukan Transfer antar bank\", loc=\"left\", fontstyle='italic')\n",
    "plt.show()"
   ]
  },
  {
   "cell_type": "code",
   "execution_count": 36,
   "id": "9d70ef36-e6c0-4b49-b9d0-59c3b2a7f240",
   "metadata": {},
   "outputs": [
    {
     "data": {
      "text/html": [
       "<div>\n",
       "<style scoped>\n",
       "    .dataframe tbody tr th:only-of-type {\n",
       "        vertical-align: middle;\n",
       "    }\n",
       "\n",
       "    .dataframe tbody tr th {\n",
       "        vertical-align: top;\n",
       "    }\n",
       "\n",
       "    .dataframe thead th {\n",
       "        text-align: right;\n",
       "    }\n",
       "</style>\n",
       "<table border=\"1\" class=\"dataframe\">\n",
       "  <thead>\n",
       "    <tr style=\"text-align: right;\">\n",
       "      <th></th>\n",
       "      <th>Channel</th>\n",
       "      <th>Frekuensi</th>\n",
       "      <th>Proporsi</th>\n",
       "    </tr>\n",
       "  </thead>\n",
       "  <tbody>\n",
       "    <tr>\n",
       "      <th>0</th>\n",
       "      <td>Mobile Banking</td>\n",
       "      <td>205</td>\n",
       "      <td>0.807087</td>\n",
       "    </tr>\n",
       "    <tr>\n",
       "      <th>1</th>\n",
       "      <td>Internet Banking</td>\n",
       "      <td>30</td>\n",
       "      <td>0.118110</td>\n",
       "    </tr>\n",
       "    <tr>\n",
       "      <th>2</th>\n",
       "      <td>ATM</td>\n",
       "      <td>15</td>\n",
       "      <td>0.059055</td>\n",
       "    </tr>\n",
       "    <tr>\n",
       "      <th>3</th>\n",
       "      <td>Datang ke cabang bank</td>\n",
       "      <td>3</td>\n",
       "      <td>0.011811</td>\n",
       "    </tr>\n",
       "    <tr>\n",
       "      <th>4</th>\n",
       "      <td>SMS Banking</td>\n",
       "      <td>1</td>\n",
       "      <td>0.003937</td>\n",
       "    </tr>\n",
       "  </tbody>\n",
       "</table>\n",
       "</div>"
      ],
      "text/plain": [
       "                 Channel  Frekuensi  Proporsi\n",
       "0         Mobile Banking        205  0.807087\n",
       "1       Internet Banking         30  0.118110\n",
       "2                    ATM         15  0.059055\n",
       "3  Datang ke cabang bank          3  0.011811\n",
       "4            SMS Banking          1  0.003937"
      ]
     },
     "execution_count": 36,
     "metadata": {},
     "output_type": "execute_result"
    }
   ],
   "source": [
    "# Tabel frekuensi preferensi channel untuk melakukan Transfer antar bank\n",
    "tf_antar_bank['Proporsi'] = (tf_antar_bank['Frekuensi']/tf_antar_bank.Frekuensi.sum())\n",
    "tf_antar_bank"
   ]
  },
  {
   "cell_type": "code",
   "execution_count": 37,
   "id": "c1d79263-aa31-43a7-a8b0-b92c8a6d3cc3",
   "metadata": {},
   "outputs": [
    {
     "data": {
      "text/html": [
       "<div>\n",
       "<style scoped>\n",
       "    .dataframe tbody tr th:only-of-type {\n",
       "        vertical-align: middle;\n",
       "    }\n",
       "\n",
       "    .dataframe tbody tr th {\n",
       "        vertical-align: top;\n",
       "    }\n",
       "\n",
       "    .dataframe thead th {\n",
       "        text-align: right;\n",
       "    }\n",
       "</style>\n",
       "<table border=\"1\" class=\"dataframe\">\n",
       "  <thead>\n",
       "    <tr style=\"text-align: right;\">\n",
       "      <th></th>\n",
       "      <th>emoney_pilihan_1</th>\n",
       "      <th>emoney_pilihan_2</th>\n",
       "      <th>emoney_pilihan_3</th>\n",
       "      <th>emoney_pilihan_4</th>\n",
       "      <th>emoney_pilihan_5</th>\n",
       "      <th>emoney_pilihan_6</th>\n",
       "      <th>emoney_pilihan_7</th>\n",
       "    </tr>\n",
       "  </thead>\n",
       "  <tbody>\n",
       "    <tr>\n",
       "      <th>0</th>\n",
       "      <td>GoPay</td>\n",
       "      <td>ShopeePay</td>\n",
       "      <td>OVO</td>\n",
       "      <td>NaN</td>\n",
       "      <td>NaN</td>\n",
       "      <td>NaN</td>\n",
       "      <td>NaN</td>\n",
       "    </tr>\n",
       "    <tr>\n",
       "      <th>1</th>\n",
       "      <td>GoPay</td>\n",
       "      <td>ShopeePay</td>\n",
       "      <td>NaN</td>\n",
       "      <td>NaN</td>\n",
       "      <td>eMoney Mandiri</td>\n",
       "      <td>NaN</td>\n",
       "      <td>LinkAja</td>\n",
       "    </tr>\n",
       "    <tr>\n",
       "      <th>2</th>\n",
       "      <td>GoPay</td>\n",
       "      <td>ShopeePay</td>\n",
       "      <td>OVO</td>\n",
       "      <td>NaN</td>\n",
       "      <td>NaN</td>\n",
       "      <td>NaN</td>\n",
       "      <td>NaN</td>\n",
       "    </tr>\n",
       "    <tr>\n",
       "      <th>3</th>\n",
       "      <td>NaN</td>\n",
       "      <td>NaN</td>\n",
       "      <td>NaN</td>\n",
       "      <td>NaN</td>\n",
       "      <td>NaN</td>\n",
       "      <td>NaN</td>\n",
       "      <td>NaN</td>\n",
       "    </tr>\n",
       "    <tr>\n",
       "      <th>4</th>\n",
       "      <td>NaN</td>\n",
       "      <td>NaN</td>\n",
       "      <td>NaN</td>\n",
       "      <td>NaN</td>\n",
       "      <td>NaN</td>\n",
       "      <td>NaN</td>\n",
       "      <td>NaN</td>\n",
       "    </tr>\n",
       "    <tr>\n",
       "      <th>...</th>\n",
       "      <td>...</td>\n",
       "      <td>...</td>\n",
       "      <td>...</td>\n",
       "      <td>...</td>\n",
       "      <td>...</td>\n",
       "      <td>...</td>\n",
       "      <td>...</td>\n",
       "    </tr>\n",
       "    <tr>\n",
       "      <th>295</th>\n",
       "      <td>GoPay</td>\n",
       "      <td>ShopeePay</td>\n",
       "      <td>NaN</td>\n",
       "      <td>NaN</td>\n",
       "      <td>eMoney Mandiri</td>\n",
       "      <td>NaN</td>\n",
       "      <td>NaN</td>\n",
       "    </tr>\n",
       "    <tr>\n",
       "      <th>296</th>\n",
       "      <td>GoPay</td>\n",
       "      <td>ShopeePay</td>\n",
       "      <td>OVO</td>\n",
       "      <td>NaN</td>\n",
       "      <td>NaN</td>\n",
       "      <td>NaN</td>\n",
       "      <td>NaN</td>\n",
       "    </tr>\n",
       "    <tr>\n",
       "      <th>297</th>\n",
       "      <td>GoPay</td>\n",
       "      <td>ShopeePay</td>\n",
       "      <td>OVO</td>\n",
       "      <td>NaN</td>\n",
       "      <td>NaN</td>\n",
       "      <td>NaN</td>\n",
       "      <td>NaN</td>\n",
       "    </tr>\n",
       "    <tr>\n",
       "      <th>298</th>\n",
       "      <td>GoPay</td>\n",
       "      <td>ShopeePay</td>\n",
       "      <td>OVO</td>\n",
       "      <td>Dana</td>\n",
       "      <td>NaN</td>\n",
       "      <td>NaN</td>\n",
       "      <td>LinkAja</td>\n",
       "    </tr>\n",
       "    <tr>\n",
       "      <th>299</th>\n",
       "      <td>NaN</td>\n",
       "      <td>NaN</td>\n",
       "      <td>NaN</td>\n",
       "      <td>NaN</td>\n",
       "      <td>eMoney Mandiri</td>\n",
       "      <td>NaN</td>\n",
       "      <td>LinkAja</td>\n",
       "    </tr>\n",
       "  </tbody>\n",
       "</table>\n",
       "<p>299 rows × 7 columns</p>\n",
       "</div>"
      ],
      "text/plain": [
       "    emoney_pilihan_1 emoney_pilihan_2 emoney_pilihan_3 emoney_pilihan_4  \\\n",
       "0              GoPay        ShopeePay              OVO              NaN   \n",
       "1              GoPay        ShopeePay              NaN              NaN   \n",
       "2              GoPay        ShopeePay              OVO              NaN   \n",
       "3                NaN              NaN              NaN              NaN   \n",
       "4                NaN              NaN              NaN              NaN   \n",
       "..               ...              ...              ...              ...   \n",
       "295            GoPay        ShopeePay              NaN              NaN   \n",
       "296            GoPay        ShopeePay              OVO              NaN   \n",
       "297            GoPay        ShopeePay              OVO              NaN   \n",
       "298            GoPay        ShopeePay              OVO             Dana   \n",
       "299              NaN              NaN              NaN              NaN   \n",
       "\n",
       "    emoney_pilihan_5 emoney_pilihan_6 emoney_pilihan_7  \n",
       "0                NaN              NaN              NaN  \n",
       "1     eMoney Mandiri              NaN          LinkAja  \n",
       "2                NaN              NaN              NaN  \n",
       "3                NaN              NaN              NaN  \n",
       "4                NaN              NaN              NaN  \n",
       "..               ...              ...              ...  \n",
       "295   eMoney Mandiri              NaN              NaN  \n",
       "296              NaN              NaN              NaN  \n",
       "297              NaN              NaN              NaN  \n",
       "298              NaN              NaN          LinkAja  \n",
       "299   eMoney Mandiri              NaN          LinkAja  \n",
       "\n",
       "[299 rows x 7 columns]"
      ]
     },
     "execution_count": 37,
     "metadata": {},
     "output_type": "execute_result"
    }
   ],
   "source": [
    "# Preview data pengguna 7 emoney\n",
    "emoney = data.iloc[:, 37:44]\n",
    "emoney"
   ]
  },
  {
   "cell_type": "code",
   "execution_count": 38,
   "id": "abb8dfac-7b88-4ade-8491-0c0a99bae769",
   "metadata": {},
   "outputs": [
    {
     "data": {
      "text/plain": [
       "0                           NaN\n",
       "1                           NaN\n",
       "2                           NaN\n",
       "3      Tidak Menggunakan eMoney\n",
       "4      Tidak Menggunakan eMoney\n",
       "                 ...           \n",
       "295                         NaN\n",
       "296                         NaN\n",
       "297                         NaN\n",
       "298                         NaN\n",
       "299                         NaN\n",
       "Name: emoney_pilihan_8, Length: 299, dtype: object"
      ]
     },
     "execution_count": 38,
     "metadata": {},
     "output_type": "execute_result"
    }
   ],
   "source": [
    "# Preview data responden yang tidak menggunakan emoney\n",
    "nonemoney = data.iloc[:,44]\n",
    "nonemoney"
   ]
  },
  {
   "cell_type": "code",
   "execution_count": 39,
   "id": "ed00547b-cf2d-4e0a-b1a4-53bc5c319ecd",
   "metadata": {},
   "outputs": [
    {
     "data": {
      "text/plain": [
       "25"
      ]
     },
     "execution_count": 39,
     "metadata": {},
     "output_type": "execute_result"
    }
   ],
   "source": [
    "# Banyak pengguna tidak menggunakan emoney\n",
    "n_non_emoney = nonemoney.count()\n",
    "n_non_emoney"
   ]
  },
  {
   "cell_type": "code",
   "execution_count": 40,
   "id": "875ce25a-2541-4957-bd3b-e73f4e9d571f",
   "metadata": {},
   "outputs": [
    {
     "data": {
      "text/plain": [
       "274"
      ]
     },
     "execution_count": 40,
     "metadata": {},
     "output_type": "execute_result"
    }
   ],
   "source": [
    "# Banyak sampel pengguna emoney \n",
    "n_emoney = n - n_non_emoney\n",
    "n_emoney"
   ]
  },
  {
   "cell_type": "code",
   "execution_count": 41,
   "id": "d684597d-21db-4354-aeff-d79b3c650fb1",
   "metadata": {},
   "outputs": [
    {
     "data": {
      "image/png": "[encoded data removed]",
      "text/plain": [
       "<Figure size 720x360 with 1 Axes>"
      ]
     },
     "metadata": {
      "needs_background": "light"
     },
     "output_type": "display_data"
    }
   ],
   "source": [
    "# Merge 7 columns emoney menjadi 1\n",
    "b = []\n",
    "for col in emoney.columns :\n",
    "    b += list(data[col])\n",
    "\n",
    "# Barchart frekuensi pengguna emoney\n",
    "dfemoney = pd.DataFrame(pd.Series(b).value_counts()).reset_index()\n",
    "dfemoney.columns = ['E-Money','Frekuensi']\n",
    "plt.figure(figsize = (10,5))\n",
    "sns.barplot(y='Frekuensi', x='E-Money',data=dfemoney)\n",
    "plt.title(label=\"Barchart Frekuensi Pengguna E-Money\", loc=\"left\", fontstyle='italic')\n",
    "plt.show()"
   ]
  },
  {
   "cell_type": "code",
   "execution_count": 42,
   "id": "f4160391-1738-42d0-9363-e20c309a05bf",
   "metadata": {},
   "outputs": [
    {
     "data": {
      "text/html": [
       "<div>\n",
       "<style scoped>\n",
       "    .dataframe tbody tr th:only-of-type {\n",
       "        vertical-align: middle;\n",
       "    }\n",
       "\n",
       "    .dataframe tbody tr th {\n",
       "        vertical-align: top;\n",
       "    }\n",
       "\n",
       "    .dataframe thead th {\n",
       "        text-align: right;\n",
       "    }\n",
       "</style>\n",
       "<table border=\"1\" class=\"dataframe\">\n",
       "  <thead>\n",
       "    <tr style=\"text-align: right;\">\n",
       "      <th></th>\n",
       "      <th>E-Money</th>\n",
       "      <th>Frekuensi</th>\n",
       "      <th>Proporsi</th>\n",
       "    </tr>\n",
       "  </thead>\n",
       "  <tbody>\n",
       "    <tr>\n",
       "      <th>0</th>\n",
       "      <td>GoPay</td>\n",
       "      <td>216</td>\n",
       "      <td>0.788321</td>\n",
       "    </tr>\n",
       "    <tr>\n",
       "      <th>1</th>\n",
       "      <td>ShopeePay</td>\n",
       "      <td>174</td>\n",
       "      <td>0.635036</td>\n",
       "    </tr>\n",
       "    <tr>\n",
       "      <th>2</th>\n",
       "      <td>OVO</td>\n",
       "      <td>159</td>\n",
       "      <td>0.580292</td>\n",
       "    </tr>\n",
       "    <tr>\n",
       "      <th>3</th>\n",
       "      <td>Dana</td>\n",
       "      <td>117</td>\n",
       "      <td>0.427007</td>\n",
       "    </tr>\n",
       "    <tr>\n",
       "      <th>4</th>\n",
       "      <td>eMoney Mandiri</td>\n",
       "      <td>85</td>\n",
       "      <td>0.310219</td>\n",
       "    </tr>\n",
       "    <tr>\n",
       "      <th>5</th>\n",
       "      <td>Flazz BCA</td>\n",
       "      <td>72</td>\n",
       "      <td>0.262774</td>\n",
       "    </tr>\n",
       "    <tr>\n",
       "      <th>6</th>\n",
       "      <td>LinkAja</td>\n",
       "      <td>52</td>\n",
       "      <td>0.189781</td>\n",
       "    </tr>\n",
       "  </tbody>\n",
       "</table>\n",
       "</div>"
      ],
      "text/plain": [
       "          E-Money  Frekuensi  Proporsi\n",
       "0           GoPay        216  0.788321\n",
       "1       ShopeePay        174  0.635036\n",
       "2             OVO        159  0.580292\n",
       "3            Dana        117  0.427007\n",
       "4  eMoney Mandiri         85  0.310219\n",
       "5       Flazz BCA         72  0.262774\n",
       "6         LinkAja         52  0.189781"
      ]
     },
     "execution_count": 42,
     "metadata": {},
     "output_type": "execute_result"
    }
   ],
   "source": [
    "# Tabel frekuensi pengguna e-money\n",
    "dfemoney['Proporsi'] = (dfemoney['Frekuensi']/n_emoney)\n",
    "dfemoney"
   ]
  },
  {
   "cell_type": "code",
   "execution_count": 43,
   "id": "4fa404f7-cf13-4c43-b497-f36ad06d5d89",
   "metadata": {},
   "outputs": [
    {
     "data": {
      "text/plain": [
       "(0.7883211678832117, 0.5802919708029197)"
      ]
     },
     "execution_count": 43,
     "metadata": {},
     "output_type": "execute_result"
    }
   ],
   "source": [
    "# Confidence interval pengguna GoPay dan OVO\n",
    "alpha = 1 - 0.95\n",
    "# Proporsi pengguna GoPay dan OVO\n",
    "p_gopay = dfemoney['Proporsi'][0]\n",
    "p_ovo = dfemoney['Proporsi'][2]\n",
    "p_gopay, p_ovo"
   ]
  },
  {
   "cell_type": "code",
   "execution_count": 44,
   "id": "b65e2b29-077c-4fcf-947d-0383c2d72722",
   "metadata": {},
   "outputs": [
    {
     "data": {
      "text/plain": [
       "1.959963984540054"
      ]
     },
     "execution_count": 44,
     "metadata": {},
     "output_type": "execute_result"
    }
   ],
   "source": [
    "# Z alpha/2 emoney\n",
    "z_alpha_per_2_emoney = st.norm.ppf(1-alpha/2)\n",
    "z_alpha_per_2_emoney"
   ]
  },
  {
   "cell_type": "code",
   "execution_count": 45,
   "id": "b1b5be14-4ad7-4566-a242-9a7eea9e7810",
   "metadata": {},
   "outputs": [
    {
     "data": {
      "text/plain": [
       "1.6448536269514722"
      ]
     },
     "execution_count": 45,
     "metadata": {},
     "output_type": "execute_result"
    }
   ],
   "source": [
    "# Z alpha emoney\n",
    "z_alpha_emoney = st.norm.ppf(1-alpha)\n",
    "z_alpha_emoney"
   ]
  },
  {
   "cell_type": "code",
   "execution_count": 46,
   "id": "121aa46a-2f14-4f05-b968-05afc85d9ac8",
   "metadata": {},
   "outputs": [
    {
     "data": {
      "text/plain": [
       "'confidence interval : 0.13217331920864503 < Pgopay - Povo < 0.28388507495193893'"
      ]
     },
     "execution_count": 46,
     "metadata": {},
     "output_type": "execute_result"
    }
   ],
   "source": [
    "# confidence interval\n",
    "lb_gopay_ovo = (p_gopay-p_ovo) - z_alpha_per_2_emoney * ((p_gopay*(1-p_gopay)/n_emoney)+(p_ovo*(1-p_ovo)/n_emoney))**0.5\n",
    "ub_gopay_ovo = (p_gopay-p_ovo) + z_alpha_per_2_emoney * ((p_gopay*(1-p_gopay)/n_emoney)+(p_ovo*(1-p_ovo)/n_emoney))**0.5\n",
    "f'confidence interval : {lb_gopay_ovo:} < Pgopay - Povo < {ub_gopay_ovo}'"
   ]
  },
  {
   "cell_type": "code",
   "execution_count": 47,
   "id": "7287e2dd-be9e-4be7-8c9f-39fe7c54e337",
   "metadata": {},
   "outputs": [
    {
     "data": {
      "text/plain": [
       "5.2387352310275475"
      ]
     },
     "execution_count": 47,
     "metadata": {},
     "output_type": "execute_result"
    }
   ],
   "source": [
    "# Uji hipotesis (GoPay dan OVO)\n",
    "# H0 : Pgopay = Povo\n",
    "# H1 : Pgopay > Povo\n",
    "# a = 5%\n",
    "\n",
    "# Z pgopay-povo\n",
    "xgopay = p_gopay*n_emoney \n",
    "xovo = p_ovo*n_emoney\n",
    "phat = (xgopay+xovo)/(n_emoney + n_emoney)\n",
    "Z_gopay_ovo = (p_gopay-p_ovo)/(phat*(1-phat)*(1/n_emoney+1/n_emoney))**0.5\n",
    "Z_gopay_ovo"
   ]
  },
  {
   "cell_type": "code",
   "execution_count": 48,
   "id": "b51fb00b-f813-4b9b-9b99-5e87ffa86e48",
   "metadata": {},
   "outputs": [
    {
     "name": "stdout",
     "output_type": "stream",
     "text": [
      "Crit Region: Z > 1.64\n",
      "Kesimpulan: Z di dalam crit region, H0 di tolak \n"
     ]
    }
   ],
   "source": [
    "# Kesimpulan uji hipotesis\n",
    "bool_gopay_ovo = Z_gopay_ovo > z_alpha_emoney\n",
    "print(f'Crit Region: Z > {z_alpha_emoney:.2f}')\n",
    "if bool_gopay_ovo :\n",
    "    print(\"Kesimpulan: Z di dalam crit region, H0 di tolak \")\n",
    "else :\n",
    "    print(\"Kesimpulan: Z di luar crit regoin, H0 gagal di tolak\")"
   ]
  },
  {
   "cell_type": "code",
   "execution_count": 49,
   "id": "ff8080e0-b3d2-416f-bf7d-c758eaf75758",
   "metadata": {},
   "outputs": [
    {
     "data": {
      "text/plain": [
       "8.084040015177152e-08"
      ]
     },
     "execution_count": 49,
     "metadata": {},
     "output_type": "execute_result"
    }
   ],
   "source": [
    "# P value uji hipotesis 1 arah\n",
    "pvalue_gopayovo = 1-st.norm.cdf(Z_gopay_ovo)\n",
    "pvalue_gopayovo"
   ]
  },
  {
   "cell_type": "code",
   "execution_count": 50,
   "id": "ba13693c-be55-4c19-84a1-88cad5a19f8c",
   "metadata": {},
   "outputs": [
    {
     "data": {
      "text/plain": [
       "0      Rp 100.001 – Rp 150.000\n",
       "1       Rp 50.001 – Rp 100.000\n",
       "2      Rp 100.001 – Rp 150.000\n",
       "3                          NaN\n",
       "4                          NaN\n",
       "                ...           \n",
       "295     Rp 50.001 – Rp 100.000\n",
       "296    Rp 150.001 – Rp 300.000\n",
       "297    Rp 25.000 – Rp 50.000,-\n",
       "298     Rp 50.001 – Rp 100.000\n",
       "299    Rp 100.001 – Rp 150.000\n",
       "Name: 39. Berapa biasanya nominal Anda melakukan top up/ isi ulang?, Length: 299, dtype: object"
      ]
     },
     "execution_count": 50,
     "metadata": {},
     "output_type": "execute_result"
    }
   ],
   "source": [
    "# Preview data\n",
    "data.iloc[:,70]"
   ]
  },
  {
   "cell_type": "code",
   "execution_count": 51,
   "id": "5b5c531e-0a11-4974-a441-1b53dba29844",
   "metadata": {},
   "outputs": [
    {
     "data": {
      "image/png": "[encoded data removed]",
      "text/plain": [
       "<Figure size 720x360 with 1 Axes>"
      ]
     },
     "metadata": {
      "needs_background": "light"
     },
     "output_type": "display_data"
    }
   ],
   "source": [
    "# Barchart frekuensi nominal melakukan topup e-money\n",
    "topup = data.iloc[:,70].value_counts().reset_index()\n",
    "topup.columns = ['Nominal','Frekuensi']\n",
    "plt.figure(figsize = (10,5))\n",
    "sns.barplot(x='Frekuensi', y='Nominal', data=topup)\n",
    "plt.title(label=\"Barchart Frekuensi Nominal TopUp\", loc=\"left\", fontstyle='italic')\n",
    "plt.show()"
   ]
  },
  {
   "cell_type": "code",
   "execution_count": 52,
   "id": "62b0bf0a-de11-4f16-a979-8241fb2011aa",
   "metadata": {},
   "outputs": [
    {
     "data": {
      "text/html": [
       "<div>\n",
       "<style scoped>\n",
       "    .dataframe tbody tr th:only-of-type {\n",
       "        vertical-align: middle;\n",
       "    }\n",
       "\n",
       "    .dataframe tbody tr th {\n",
       "        vertical-align: top;\n",
       "    }\n",
       "\n",
       "    .dataframe thead th {\n",
       "        text-align: right;\n",
       "    }\n",
       "</style>\n",
       "<table border=\"1\" class=\"dataframe\">\n",
       "  <thead>\n",
       "    <tr style=\"text-align: right;\">\n",
       "      <th></th>\n",
       "      <th>Nominal</th>\n",
       "      <th>Frekuensi</th>\n",
       "      <th>Proporsi</th>\n",
       "    </tr>\n",
       "  </thead>\n",
       "  <tbody>\n",
       "    <tr>\n",
       "      <th>0</th>\n",
       "      <td>Rp 50.001 – Rp 100.000</td>\n",
       "      <td>87</td>\n",
       "      <td>0.322222</td>\n",
       "    </tr>\n",
       "    <tr>\n",
       "      <th>1</th>\n",
       "      <td>&gt; Rp 300.000</td>\n",
       "      <td>51</td>\n",
       "      <td>0.188889</td>\n",
       "    </tr>\n",
       "    <tr>\n",
       "      <th>2</th>\n",
       "      <td>Rp 100.001 – Rp 150.000</td>\n",
       "      <td>49</td>\n",
       "      <td>0.181481</td>\n",
       "    </tr>\n",
       "    <tr>\n",
       "      <th>3</th>\n",
       "      <td>Rp 150.001 – Rp 300.000</td>\n",
       "      <td>42</td>\n",
       "      <td>0.155556</td>\n",
       "    </tr>\n",
       "    <tr>\n",
       "      <th>4</th>\n",
       "      <td>Rp 25.000 – Rp 50.000,-</td>\n",
       "      <td>32</td>\n",
       "      <td>0.118519</td>\n",
       "    </tr>\n",
       "    <tr>\n",
       "      <th>5</th>\n",
       "      <td>&lt; Rp 25.000,-</td>\n",
       "      <td>9</td>\n",
       "      <td>0.033333</td>\n",
       "    </tr>\n",
       "  </tbody>\n",
       "</table>\n",
       "</div>"
      ],
      "text/plain": [
       "                   Nominal  Frekuensi  Proporsi\n",
       "0   Rp 50.001 – Rp 100.000         87  0.322222\n",
       "1             > Rp 300.000         51  0.188889\n",
       "2  Rp 100.001 – Rp 150.000         49  0.181481\n",
       "3  Rp 150.001 – Rp 300.000         42  0.155556\n",
       "4  Rp 25.000 – Rp 50.000,-         32  0.118519\n",
       "5            < Rp 25.000,-          9  0.033333"
      ]
     },
     "execution_count": 52,
     "metadata": {},
     "output_type": "execute_result"
    }
   ],
   "source": [
    "# Tabel frekuensi nominal topup\n",
    "topup['Proporsi'] = topup.Frekuensi/topup.Frekuensi.sum()\n",
    "topup"
   ]
  },
  {
   "cell_type": "code",
   "execution_count": 53,
   "id": "6647c584-94c9-4c6c-80dd-92564a6136dc",
   "metadata": {},
   "outputs": [
    {
     "data": {
      "text/html": [
       "<div>\n",
       "<style scoped>\n",
       "    .dataframe tbody tr th:only-of-type {\n",
       "        vertical-align: middle;\n",
       "    }\n",
       "\n",
       "    .dataframe tbody tr th {\n",
       "        vertical-align: top;\n",
       "    }\n",
       "\n",
       "    .dataframe thead th {\n",
       "        text-align: right;\n",
       "    }\n",
       "</style>\n",
       "<table border=\"1\" class=\"dataframe\">\n",
       "  <thead>\n",
       "    <tr style=\"text-align: right;\">\n",
       "      <th></th>\n",
       "      <th>ecommerce_pilihan_1</th>\n",
       "      <th>ecommerce_pilihan_2</th>\n",
       "      <th>ecommerce_pilihan_3</th>\n",
       "      <th>ecommerce_pilihan_4</th>\n",
       "      <th>ecommerce_pilihan_5</th>\n",
       "      <th>ecommerce_pilihan_6</th>\n",
       "      <th>ecommerce_pilihan_7</th>\n",
       "    </tr>\n",
       "  </thead>\n",
       "  <tbody>\n",
       "    <tr>\n",
       "      <th>0</th>\n",
       "      <td>Shopee</td>\n",
       "      <td>Gojek (GoFood</td>\n",
       "      <td>Tokopedia</td>\n",
       "      <td>NaN</td>\n",
       "      <td>NaN</td>\n",
       "      <td>NaN</td>\n",
       "      <td>NaN</td>\n",
       "    </tr>\n",
       "    <tr>\n",
       "      <th>1</th>\n",
       "      <td>NaN</td>\n",
       "      <td>Gojek (GoFood</td>\n",
       "      <td>NaN</td>\n",
       "      <td>Grab (GrabFood</td>\n",
       "      <td>NaN</td>\n",
       "      <td>NaN</td>\n",
       "      <td>Tiket.com</td>\n",
       "    </tr>\n",
       "    <tr>\n",
       "      <th>2</th>\n",
       "      <td>Shopee</td>\n",
       "      <td>Gojek (GoFood</td>\n",
       "      <td>NaN</td>\n",
       "      <td>Grab (GrabFood</td>\n",
       "      <td>NaN</td>\n",
       "      <td>NaN</td>\n",
       "      <td>NaN</td>\n",
       "    </tr>\n",
       "    <tr>\n",
       "      <th>3</th>\n",
       "      <td>Shopee</td>\n",
       "      <td>NaN</td>\n",
       "      <td>NaN</td>\n",
       "      <td>NaN</td>\n",
       "      <td>NaN</td>\n",
       "      <td>Lazada</td>\n",
       "      <td>Tiket.com</td>\n",
       "    </tr>\n",
       "    <tr>\n",
       "      <th>4</th>\n",
       "      <td>NaN</td>\n",
       "      <td>NaN</td>\n",
       "      <td>Tokopedia</td>\n",
       "      <td>NaN</td>\n",
       "      <td>NaN</td>\n",
       "      <td>NaN</td>\n",
       "      <td>Tiket.com</td>\n",
       "    </tr>\n",
       "    <tr>\n",
       "      <th>...</th>\n",
       "      <td>...</td>\n",
       "      <td>...</td>\n",
       "      <td>...</td>\n",
       "      <td>...</td>\n",
       "      <td>...</td>\n",
       "      <td>...</td>\n",
       "      <td>...</td>\n",
       "    </tr>\n",
       "    <tr>\n",
       "      <th>295</th>\n",
       "      <td>Shopee</td>\n",
       "      <td>Gojek (GoFood</td>\n",
       "      <td>Tokopedia</td>\n",
       "      <td>NaN</td>\n",
       "      <td>NaN</td>\n",
       "      <td>NaN</td>\n",
       "      <td>NaN</td>\n",
       "    </tr>\n",
       "    <tr>\n",
       "      <th>296</th>\n",
       "      <td>Shopee</td>\n",
       "      <td>Gojek (GoFood</td>\n",
       "      <td>Tokopedia</td>\n",
       "      <td>NaN</td>\n",
       "      <td>NaN</td>\n",
       "      <td>NaN</td>\n",
       "      <td>NaN</td>\n",
       "    </tr>\n",
       "    <tr>\n",
       "      <th>297</th>\n",
       "      <td>Shopee</td>\n",
       "      <td>Gojek (GoFood</td>\n",
       "      <td>Tokopedia</td>\n",
       "      <td>NaN</td>\n",
       "      <td>NaN</td>\n",
       "      <td>NaN</td>\n",
       "      <td>NaN</td>\n",
       "    </tr>\n",
       "    <tr>\n",
       "      <th>298</th>\n",
       "      <td>Shopee</td>\n",
       "      <td>Gojek (GoFood</td>\n",
       "      <td>Tokopedia</td>\n",
       "      <td>NaN</td>\n",
       "      <td>NaN</td>\n",
       "      <td>NaN</td>\n",
       "      <td>NaN</td>\n",
       "    </tr>\n",
       "    <tr>\n",
       "      <th>299</th>\n",
       "      <td>Shopee</td>\n",
       "      <td>NaN</td>\n",
       "      <td>Tokopedia</td>\n",
       "      <td>NaN</td>\n",
       "      <td>Traveloka</td>\n",
       "      <td>NaN</td>\n",
       "      <td>NaN</td>\n",
       "    </tr>\n",
       "  </tbody>\n",
       "</table>\n",
       "<p>299 rows × 7 columns</p>\n",
       "</div>"
      ],
      "text/plain": [
       "    ecommerce_pilihan_1 ecommerce_pilihan_2 ecommerce_pilihan_3  \\\n",
       "0                Shopee       Gojek (GoFood           Tokopedia   \n",
       "1                   NaN       Gojek (GoFood                 NaN   \n",
       "2                Shopee       Gojek (GoFood                 NaN   \n",
       "3                Shopee                 NaN                 NaN   \n",
       "4                   NaN                 NaN           Tokopedia   \n",
       "..                  ...                 ...                 ...   \n",
       "295              Shopee       Gojek (GoFood           Tokopedia   \n",
       "296              Shopee       Gojek (GoFood           Tokopedia   \n",
       "297              Shopee       Gojek (GoFood           Tokopedia   \n",
       "298              Shopee       Gojek (GoFood           Tokopedia   \n",
       "299              Shopee                 NaN           Tokopedia   \n",
       "\n",
       "    ecommerce_pilihan_4 ecommerce_pilihan_5 ecommerce_pilihan_6  \\\n",
       "0                   NaN                 NaN                 NaN   \n",
       "1        Grab (GrabFood                 NaN                 NaN   \n",
       "2        Grab (GrabFood                 NaN                 NaN   \n",
       "3                   NaN                 NaN              Lazada   \n",
       "4                   NaN                 NaN                 NaN   \n",
       "..                  ...                 ...                 ...   \n",
       "295                 NaN                 NaN                 NaN   \n",
       "296                 NaN                 NaN                 NaN   \n",
       "297                 NaN                 NaN                 NaN   \n",
       "298                 NaN                 NaN                 NaN   \n",
       "299                 NaN           Traveloka                 NaN   \n",
       "\n",
       "    ecommerce_pilihan_7  \n",
       "0                   NaN  \n",
       "1             Tiket.com  \n",
       "2                   NaN  \n",
       "3             Tiket.com  \n",
       "4             Tiket.com  \n",
       "..                  ...  \n",
       "295                 NaN  \n",
       "296                 NaN  \n",
       "297                 NaN  \n",
       "298                 NaN  \n",
       "299                 NaN  \n",
       "\n",
       "[299 rows x 7 columns]"
      ]
     },
     "execution_count": 53,
     "metadata": {},
     "output_type": "execute_result"
    }
   ],
   "source": [
    "# Preview data 7 ecommerce\n",
    "ecommerce = data.iloc[:,116:123]\n",
    "ecommerce"
   ]
  },
  {
   "cell_type": "code",
   "execution_count": 54,
   "id": "b1a678a3-cd67-4616-a4ea-4e1d9c1b2f72",
   "metadata": {},
   "outputs": [
    {
     "data": {
      "image/png": "[encoded data removed]",
      "text/plain": [
       "<Figure size 864x360 with 1 Axes>"
      ]
     },
     "metadata": {
      "needs_background": "light"
     },
     "output_type": "display_data"
    }
   ],
   "source": [
    "# Merge 7 columns ecommerce menjadi 1\n",
    "c = []\n",
    "for col in ecommerce.columns :\n",
    "    c += list(data[col])\n",
    "\n",
    "# Barchart frekuensi pengguna bank\n",
    "dfecom = pd.DataFrame(pd.Series(c).value_counts()).reset_index()\n",
    "dfecom.columns = ['Ecommerce','Frekuensi']\n",
    "plt.figure(figsize = (12,5))\n",
    "sns.barplot(y='Frekuensi', x='Ecommerce',data=dfecom)\n",
    "plt.title(label=\"Barchart Frekuensi Pengguna Ecommerce\", loc=\"left\", fontstyle='italic')\n",
    "plt.show()"
   ]
  },
  {
   "cell_type": "code",
   "execution_count": 55,
   "id": "ab078e7f-4d9d-4316-8ba5-ff41381f7ecb",
   "metadata": {},
   "outputs": [
    {
     "data": {
      "text/html": [
       "<div>\n",
       "<style scoped>\n",
       "    .dataframe tbody tr th:only-of-type {\n",
       "        vertical-align: middle;\n",
       "    }\n",
       "\n",
       "    .dataframe tbody tr th {\n",
       "        vertical-align: top;\n",
       "    }\n",
       "\n",
       "    .dataframe thead th {\n",
       "        text-align: right;\n",
       "    }\n",
       "</style>\n",
       "<table border=\"1\" class=\"dataframe\">\n",
       "  <thead>\n",
       "    <tr style=\"text-align: right;\">\n",
       "      <th></th>\n",
       "      <th>Ecommerce</th>\n",
       "      <th>Frekuensi</th>\n",
       "      <th>Proporsi</th>\n",
       "    </tr>\n",
       "  </thead>\n",
       "  <tbody>\n",
       "    <tr>\n",
       "      <th>0</th>\n",
       "      <td>Shopee</td>\n",
       "      <td>246</td>\n",
       "      <td>0.822742</td>\n",
       "    </tr>\n",
       "    <tr>\n",
       "      <th>1</th>\n",
       "      <td>Gojek (GoFood</td>\n",
       "      <td>208</td>\n",
       "      <td>0.695652</td>\n",
       "    </tr>\n",
       "    <tr>\n",
       "      <th>2</th>\n",
       "      <td>Tokopedia</td>\n",
       "      <td>178</td>\n",
       "      <td>0.595318</td>\n",
       "    </tr>\n",
       "    <tr>\n",
       "      <th>3</th>\n",
       "      <td>Grab (GrabFood</td>\n",
       "      <td>111</td>\n",
       "      <td>0.371237</td>\n",
       "    </tr>\n",
       "    <tr>\n",
       "      <th>4</th>\n",
       "      <td>Traveloka</td>\n",
       "      <td>56</td>\n",
       "      <td>0.187291</td>\n",
       "    </tr>\n",
       "    <tr>\n",
       "      <th>5</th>\n",
       "      <td>Lazada</td>\n",
       "      <td>34</td>\n",
       "      <td>0.113712</td>\n",
       "    </tr>\n",
       "    <tr>\n",
       "      <th>6</th>\n",
       "      <td>Tiket.com</td>\n",
       "      <td>28</td>\n",
       "      <td>0.093645</td>\n",
       "    </tr>\n",
       "  </tbody>\n",
       "</table>\n",
       "</div>"
      ],
      "text/plain": [
       "        Ecommerce  Frekuensi  Proporsi\n",
       "0          Shopee        246  0.822742\n",
       "1   Gojek (GoFood        208  0.695652\n",
       "2       Tokopedia        178  0.595318\n",
       "3  Grab (GrabFood        111  0.371237\n",
       "4       Traveloka         56  0.187291\n",
       "5          Lazada         34  0.113712\n",
       "6       Tiket.com         28  0.093645"
      ]
     },
     "execution_count": 55,
     "metadata": {},
     "output_type": "execute_result"
    }
   ],
   "source": [
    "# Tabel frekuensi pengguna e-commerce\n",
    "dfecom['Proporsi'] = (dfecom['Frekuensi']/n)\n",
    "dfecom"
   ]
  },
  {
   "cell_type": "code",
   "execution_count": 56,
   "id": "8b08c91d-02b2-4a9b-8dc5-0ad5560f61dc",
   "metadata": {},
   "outputs": [
    {
     "data": {
      "text/plain": [
       "0      offline/ langsung datang ke toko fisik\n",
       "1      offline/ langsung datang ke toko fisik\n",
       "2      offline/ langsung datang ke toko fisik\n",
       "3      offline/ langsung datang ke toko fisik\n",
       "4      offline/ langsung datang ke toko fisik\n",
       "                        ...                  \n",
       "295    offline/ langsung datang ke toko fisik\n",
       "296    offline/ langsung datang ke toko fisik\n",
       "297                                    online\n",
       "298    offline/ langsung datang ke toko fisik\n",
       "299    offline/ langsung datang ke toko fisik\n",
       "Name: 47. Bagaimana kecenderungan Anda jika akan berbelanja hal-hal berikut? [handphone], Length: 299, dtype: object"
      ]
     },
     "execution_count": 56,
     "metadata": {},
     "output_type": "execute_result"
    }
   ],
   "source": [
    "# Preview data\n",
    "data.iloc[:,99]"
   ]
  },
  {
   "cell_type": "code",
   "execution_count": 57,
   "id": "70898682-e2b7-4e5f-895a-346d1fe054ce",
   "metadata": {},
   "outputs": [
    {
     "data": {
      "image/png": "[encoded data removed]",
      "text/plain": [
       "<Figure size 432x288 with 1 Axes>"
      ]
     },
     "metadata": {},
     "output_type": "display_data"
    }
   ],
   "source": [
    "# Piechart proporsi responden yang prefer membeli handphone secara offline vs online\n",
    "hp = data.iloc[:,99].value_counts().reset_index()\n",
    "hp.columns = ['Offline/Online','Frekuensi']\n",
    "pallete = sns.color_palette('pastel')\n",
    "explode = (0.1,0)\n",
    "plt.pie(hp['Frekuensi'], labels = hp['Offline/Online'],colors = pallete, explode = explode, autopct = '%.0f%%', shadow = True)\n",
    "plt.title(label=\"Piechart Proporsi Responden Prefer Beli HP Secara Offline / Online\", loc=\"left\", fontstyle='italic')\n",
    "plt.show()"
   ]
  },
  {
   "cell_type": "code",
   "execution_count": 58,
   "id": "5c88b97e-d62a-4688-a58f-e5608ddf22a6",
   "metadata": {},
   "outputs": [
    {
     "data": {
      "text/html": [
       "<div>\n",
       "<style scoped>\n",
       "    .dataframe tbody tr th:only-of-type {\n",
       "        vertical-align: middle;\n",
       "    }\n",
       "\n",
       "    .dataframe tbody tr th {\n",
       "        vertical-align: top;\n",
       "    }\n",
       "\n",
       "    .dataframe thead th {\n",
       "        text-align: right;\n",
       "    }\n",
       "</style>\n",
       "<table border=\"1\" class=\"dataframe\">\n",
       "  <thead>\n",
       "    <tr style=\"text-align: right;\">\n",
       "      <th></th>\n",
       "      <th>Offline/Online</th>\n",
       "      <th>Frekuensi</th>\n",
       "      <th>Proporsi</th>\n",
       "    </tr>\n",
       "  </thead>\n",
       "  <tbody>\n",
       "    <tr>\n",
       "      <th>0</th>\n",
       "      <td>offline/ langsung datang ke toko fisik</td>\n",
       "      <td>218</td>\n",
       "      <td>0.792727</td>\n",
       "    </tr>\n",
       "    <tr>\n",
       "      <th>1</th>\n",
       "      <td>online</td>\n",
       "      <td>57</td>\n",
       "      <td>0.207273</td>\n",
       "    </tr>\n",
       "  </tbody>\n",
       "</table>\n",
       "</div>"
      ],
      "text/plain": [
       "                           Offline/Online  Frekuensi  Proporsi\n",
       "0  offline/ langsung datang ke toko fisik        218  0.792727\n",
       "1                                  online         57  0.207273"
      ]
     },
     "execution_count": 58,
     "metadata": {},
     "output_type": "execute_result"
    }
   ],
   "source": [
    "# Tabel frekuensi preferensi beli HP\n",
    "hp['Proporsi'] = hp.Frekuensi/hp.Frekuensi.sum()\n",
    "hp"
   ]
  },
  {
   "cell_type": "code",
   "execution_count": 59,
   "id": "d95b00c8-2162-4664-8e2f-4dd079c6d490",
   "metadata": {},
   "outputs": [
    {
     "data": {
      "text/plain": [
       "0                                          ShopeeFood\n",
       "1                                            GrabFood\n",
       "2                                          ShopeeFood\n",
       "3                                              GoFood\n",
       "4                                          ShopeeFood\n",
       "                            ...                      \n",
       "295                                        ShopeeFood\n",
       "296                                            GoFood\n",
       "297                                            GoFood\n",
       "298                                            GoFood\n",
       "299    Tidak pernah menggunakan layanan Food Delivery\n",
       "Name: 50. Apakah Anda pernah menggunakan layanan Food Delivery (pembelian makanan/ minuman secara online )? Jika Pernah, mohon sebutkan layanan yang PALING sering Anda gunakan?, Length: 299, dtype: object"
      ]
     },
     "execution_count": 59,
     "metadata": {},
     "output_type": "execute_result"
    }
   ],
   "source": [
    "# Preview data\n",
    "data.iloc[:,128]"
   ]
  },
  {
   "cell_type": "code",
   "execution_count": 60,
   "id": "f0800033-5128-4752-acaf-2f47a369cf32",
   "metadata": {},
   "outputs": [
    {
     "data": {
      "image/png": "[encoded data removed]",
      "text/plain": [
       "<Figure size 864x360 with 1 Axes>"
      ]
     },
     "metadata": {
      "needs_background": "light"
     },
     "output_type": "display_data"
    }
   ],
   "source": [
    "# Barchart tempat beli makanan online pilihan responden\n",
    "food = data.iloc[:,128].value_counts().reset_index()\n",
    "food.columns = ['Tempat Beli Makanan Online','Frekuensi']\n",
    "plt.figure(figsize = (12,5))\n",
    "sns.barplot(x='Frekuensi', y='Tempat Beli Makanan Online',data=food)\n",
    "plt.title(label=\"Barchart Tempat Pembelian Makanan Secara Online\", loc=\"left\", fontstyle='italic')\n",
    "plt.show()"
   ]
  },
  {
   "cell_type": "code",
   "execution_count": 61,
   "id": "ee0baf68-cf3b-4500-b976-9aedbe5a4f82",
   "metadata": {},
   "outputs": [
    {
     "data": {
      "text/html": [
       "<div>\n",
       "<style scoped>\n",
       "    .dataframe tbody tr th:only-of-type {\n",
       "        vertical-align: middle;\n",
       "    }\n",
       "\n",
       "    .dataframe tbody tr th {\n",
       "        vertical-align: top;\n",
       "    }\n",
       "\n",
       "    .dataframe thead th {\n",
       "        text-align: right;\n",
       "    }\n",
       "</style>\n",
       "<table border=\"1\" class=\"dataframe\">\n",
       "  <thead>\n",
       "    <tr style=\"text-align: right;\">\n",
       "      <th></th>\n",
       "      <th>Tempat Beli Makanan Online</th>\n",
       "      <th>Frekuensi</th>\n",
       "      <th>Proporsi</th>\n",
       "    </tr>\n",
       "  </thead>\n",
       "  <tbody>\n",
       "    <tr>\n",
       "      <th>0</th>\n",
       "      <td>GoFood</td>\n",
       "      <td>132</td>\n",
       "      <td>0.442953</td>\n",
       "    </tr>\n",
       "    <tr>\n",
       "      <th>1</th>\n",
       "      <td>GrabFood</td>\n",
       "      <td>75</td>\n",
       "      <td>0.251678</td>\n",
       "    </tr>\n",
       "    <tr>\n",
       "      <th>2</th>\n",
       "      <td>ShopeeFood</td>\n",
       "      <td>70</td>\n",
       "      <td>0.234899</td>\n",
       "    </tr>\n",
       "    <tr>\n",
       "      <th>3</th>\n",
       "      <td>Tidak pernah menggunakan layanan Food Delivery</td>\n",
       "      <td>16</td>\n",
       "      <td>0.053691</td>\n",
       "    </tr>\n",
       "    <tr>\n",
       "      <th>4</th>\n",
       "      <td>Maxim food</td>\n",
       "      <td>1</td>\n",
       "      <td>0.003356</td>\n",
       "    </tr>\n",
       "    <tr>\n",
       "      <th>5</th>\n",
       "      <td>Lieferando.de</td>\n",
       "      <td>1</td>\n",
       "      <td>0.003356</td>\n",
       "    </tr>\n",
       "    <tr>\n",
       "      <th>6</th>\n",
       "      <td>Traveloka eats</td>\n",
       "      <td>1</td>\n",
       "      <td>0.003356</td>\n",
       "    </tr>\n",
       "    <tr>\n",
       "      <th>7</th>\n",
       "      <td>Tidak pernah ini</td>\n",
       "      <td>1</td>\n",
       "      <td>0.003356</td>\n",
       "    </tr>\n",
       "    <tr>\n",
       "      <th>8</th>\n",
       "      <td>Tidak pernah</td>\n",
       "      <td>1</td>\n",
       "      <td>0.003356</td>\n",
       "    </tr>\n",
       "  </tbody>\n",
       "</table>\n",
       "</div>"
      ],
      "text/plain": [
       "                       Tempat Beli Makanan Online  Frekuensi  Proporsi\n",
       "0                                          GoFood        132  0.442953\n",
       "1                                        GrabFood         75  0.251678\n",
       "2                                      ShopeeFood         70  0.234899\n",
       "3  Tidak pernah menggunakan layanan Food Delivery         16  0.053691\n",
       "4                                      Maxim food          1  0.003356\n",
       "5                                   Lieferando.de          1  0.003356\n",
       "6                                  Traveloka eats          1  0.003356\n",
       "7                                Tidak pernah ini          1  0.003356\n",
       "8                                    Tidak pernah          1  0.003356"
      ]
     },
     "execution_count": 61,
     "metadata": {},
     "output_type": "execute_result"
    }
   ],
   "source": [
    "# Tabel frekuensi tempat beli makanan online\n",
    "food['Proporsi'] = food.Frekuensi/food.Frekuensi.sum()\n",
    "food"
   ]
  },
  {
   "cell_type": "code",
   "execution_count": 62,
   "id": "0200a7da-8077-4e3a-bf48-63826c722975",
   "metadata": {},
   "outputs": [],
   "source": [
    "# One way ANOVA\n",
    "# H0 : Mean umur pengguna gofood = mean umur pengguna grabfood = mean umur pengguna shopeefood\n",
    "# H1 : Setidaknya ada dua grup yang memiliki mean umur yang berbeda\n",
    "# a = 5%"
   ]
  },
  {
   "cell_type": "code",
   "execution_count": 63,
   "id": "282be96c-f586-4c40-ac51-23734aa10aa8",
   "metadata": {},
   "outputs": [],
   "source": [
    "# Select data dengan kolom usia dan tempat beli makanan online pilihan responden\n",
    "data2 = data.iloc[:,[1,128]]\n",
    "data2.columns = ['usia','tempat_makan']\n",
    "\n",
    "# Select hanya pengguna gofood, grabfood, shopeefood\n",
    "data3 = data2.loc[data2.tempat_makan.isin(['ShopeeFood','GrabFood','GoFood'])]"
   ]
  },
  {
   "cell_type": "code",
   "execution_count": 64,
   "id": "d602025e-1242-468a-8a21-83dabe44c89b",
   "metadata": {},
   "outputs": [
    {
     "data": {
      "text/html": [
       "<div>\n",
       "<style scoped>\n",
       "    .dataframe tbody tr th:only-of-type {\n",
       "        vertical-align: middle;\n",
       "    }\n",
       "\n",
       "    .dataframe tbody tr th {\n",
       "        vertical-align: top;\n",
       "    }\n",
       "\n",
       "    .dataframe thead th {\n",
       "        text-align: right;\n",
       "    }\n",
       "</style>\n",
       "<table border=\"1\" class=\"dataframe\">\n",
       "  <thead>\n",
       "    <tr style=\"text-align: right;\">\n",
       "      <th></th>\n",
       "      <th>usia</th>\n",
       "      <th>tempat_makan</th>\n",
       "    </tr>\n",
       "  </thead>\n",
       "  <tbody>\n",
       "    <tr>\n",
       "      <th>158</th>\n",
       "      <td>NaN</td>\n",
       "      <td>GrabFood</td>\n",
       "    </tr>\n",
       "    <tr>\n",
       "      <th>178</th>\n",
       "      <td>NaN</td>\n",
       "      <td>GoFood</td>\n",
       "    </tr>\n",
       "  </tbody>\n",
       "</table>\n",
       "</div>"
      ],
      "text/plain": [
       "     usia tempat_makan\n",
       "158   NaN     GrabFood\n",
       "178   NaN       GoFood"
      ]
     },
     "execution_count": 64,
     "metadata": {},
     "output_type": "execute_result"
    }
   ],
   "source": [
    "# Cek data NaN\n",
    "data3[pd.isnull(data3.usia)]"
   ]
  },
  {
   "cell_type": "code",
   "execution_count": 65,
   "id": "cd9e2cae-4561-4399-8cc7-ab5b27331c06",
   "metadata": {},
   "outputs": [
    {
     "data": {
      "text/html": [
       "<div>\n",
       "<style scoped>\n",
       "    .dataframe tbody tr th:only-of-type {\n",
       "        vertical-align: middle;\n",
       "    }\n",
       "\n",
       "    .dataframe tbody tr th {\n",
       "        vertical-align: top;\n",
       "    }\n",
       "\n",
       "    .dataframe thead th {\n",
       "        text-align: right;\n",
       "    }\n",
       "</style>\n",
       "<table border=\"1\" class=\"dataframe\">\n",
       "  <thead>\n",
       "    <tr style=\"text-align: right;\">\n",
       "      <th></th>\n",
       "      <th>usia</th>\n",
       "      <th>tempat_makan</th>\n",
       "    </tr>\n",
       "  </thead>\n",
       "  <tbody>\n",
       "  </tbody>\n",
       "</table>\n",
       "</div>"
      ],
      "text/plain": [
       "Empty DataFrame\n",
       "Columns: [usia, tempat_makan]\n",
       "Index: []"
      ]
     },
     "execution_count": 65,
     "metadata": {},
     "output_type": "execute_result"
    }
   ],
   "source": [
    "# Cek data NaN\n",
    "data3[pd.isnull(data3.tempat_makan)]"
   ]
  },
  {
   "cell_type": "code",
   "execution_count": 66,
   "id": "83a679d7-2ab1-44cf-b8e2-ec1d5ad5ff11",
   "metadata": {},
   "outputs": [],
   "source": [
    "# Remove row dengan value NaN\n",
    "data3 = data3.dropna()"
   ]
  },
  {
   "cell_type": "code",
   "execution_count": 67,
   "id": "32c551e9-54fa-4cbb-b0da-35decbcc71f4",
   "metadata": {},
   "outputs": [
    {
     "data": {
      "text/html": [
       "<div>\n",
       "<style scoped>\n",
       "    .dataframe tbody tr th:only-of-type {\n",
       "        vertical-align: middle;\n",
       "    }\n",
       "\n",
       "    .dataframe tbody tr th {\n",
       "        vertical-align: top;\n",
       "    }\n",
       "\n",
       "    .dataframe thead th {\n",
       "        text-align: right;\n",
       "    }\n",
       "</style>\n",
       "<table border=\"1\" class=\"dataframe\">\n",
       "  <thead>\n",
       "    <tr style=\"text-align: right;\">\n",
       "      <th></th>\n",
       "      <th>usia</th>\n",
       "      <th>tempat_makan</th>\n",
       "    </tr>\n",
       "  </thead>\n",
       "  <tbody>\n",
       "    <tr>\n",
       "      <th>0</th>\n",
       "      <td>20.0</td>\n",
       "      <td>ShopeeFood</td>\n",
       "    </tr>\n",
       "    <tr>\n",
       "      <th>1</th>\n",
       "      <td>24.0</td>\n",
       "      <td>GrabFood</td>\n",
       "    </tr>\n",
       "    <tr>\n",
       "      <th>2</th>\n",
       "      <td>19.0</td>\n",
       "      <td>ShopeeFood</td>\n",
       "    </tr>\n",
       "    <tr>\n",
       "      <th>3</th>\n",
       "      <td>35.0</td>\n",
       "      <td>GoFood</td>\n",
       "    </tr>\n",
       "    <tr>\n",
       "      <th>4</th>\n",
       "      <td>19.0</td>\n",
       "      <td>ShopeeFood</td>\n",
       "    </tr>\n",
       "    <tr>\n",
       "      <th>...</th>\n",
       "      <td>...</td>\n",
       "      <td>...</td>\n",
       "    </tr>\n",
       "    <tr>\n",
       "      <th>294</th>\n",
       "      <td>18.0</td>\n",
       "      <td>GoFood</td>\n",
       "    </tr>\n",
       "    <tr>\n",
       "      <th>295</th>\n",
       "      <td>19.0</td>\n",
       "      <td>ShopeeFood</td>\n",
       "    </tr>\n",
       "    <tr>\n",
       "      <th>296</th>\n",
       "      <td>19.0</td>\n",
       "      <td>GoFood</td>\n",
       "    </tr>\n",
       "    <tr>\n",
       "      <th>297</th>\n",
       "      <td>19.0</td>\n",
       "      <td>GoFood</td>\n",
       "    </tr>\n",
       "    <tr>\n",
       "      <th>298</th>\n",
       "      <td>20.0</td>\n",
       "      <td>GoFood</td>\n",
       "    </tr>\n",
       "  </tbody>\n",
       "</table>\n",
       "<p>275 rows × 2 columns</p>\n",
       "</div>"
      ],
      "text/plain": [
       "     usia tempat_makan\n",
       "0    20.0   ShopeeFood\n",
       "1    24.0     GrabFood\n",
       "2    19.0   ShopeeFood\n",
       "3    35.0       GoFood\n",
       "4    19.0   ShopeeFood\n",
       "..    ...          ...\n",
       "294  18.0       GoFood\n",
       "295  19.0   ShopeeFood\n",
       "296  19.0       GoFood\n",
       "297  19.0       GoFood\n",
       "298  20.0       GoFood\n",
       "\n",
       "[275 rows x 2 columns]"
      ]
     },
     "execution_count": 67,
     "metadata": {},
     "output_type": "execute_result"
    }
   ],
   "source": [
    "# Preview data yang digunakan untuk ANOVA\n",
    "data3"
   ]
  },
  {
   "cell_type": "code",
   "execution_count": 68,
   "id": "9e18508d-bfbe-4987-8678-ef2e4b269769",
   "metadata": {},
   "outputs": [
    {
     "data": {
      "text/html": [
       "<div>\n",
       "<style scoped>\n",
       "    .dataframe tbody tr th:only-of-type {\n",
       "        vertical-align: middle;\n",
       "    }\n",
       "\n",
       "    .dataframe tbody tr th {\n",
       "        vertical-align: top;\n",
       "    }\n",
       "\n",
       "    .dataframe thead th {\n",
       "        text-align: right;\n",
       "    }\n",
       "</style>\n",
       "<table border=\"1\" class=\"dataframe\">\n",
       "  <thead>\n",
       "    <tr style=\"text-align: right;\">\n",
       "      <th></th>\n",
       "      <th>df</th>\n",
       "      <th>sum_sq</th>\n",
       "      <th>mean_sq</th>\n",
       "      <th>F</th>\n",
       "      <th>PR(&gt;F)</th>\n",
       "    </tr>\n",
       "  </thead>\n",
       "  <tbody>\n",
       "    <tr>\n",
       "      <th>C(tempat_makan)</th>\n",
       "      <td>2.0</td>\n",
       "      <td>2724.846325</td>\n",
       "      <td>1362.423163</td>\n",
       "      <td>9.414934</td>\n",
       "      <td>0.000111</td>\n",
       "    </tr>\n",
       "    <tr>\n",
       "      <th>Residual</th>\n",
       "      <td>272.0</td>\n",
       "      <td>39360.775493</td>\n",
       "      <td>144.708733</td>\n",
       "      <td>NaN</td>\n",
       "      <td>NaN</td>\n",
       "    </tr>\n",
       "  </tbody>\n",
       "</table>\n",
       "</div>"
      ],
      "text/plain": [
       "                    df        sum_sq      mean_sq         F    PR(>F)\n",
       "C(tempat_makan)    2.0   2724.846325  1362.423163  9.414934  0.000111\n",
       "Residual         272.0  39360.775493   144.708733       NaN       NaN"
      ]
     },
     "execution_count": 68,
     "metadata": {},
     "output_type": "execute_result"
    }
   ],
   "source": [
    "model = ols('usia ~  C(tempat_makan)',data = data3).fit()\n",
    "anova_table = sm.stats.anova_lm(model, typ = 1)\n",
    "anova_table"
   ]
  },
  {
   "cell_type": "code",
   "execution_count": 69,
   "id": "915f4cba-5653-4a9d-b4c6-b112c44bb03a",
   "metadata": {},
   "outputs": [
    {
     "name": "stdout",
     "output_type": "stream",
     "text": [
      "Crit Region: f > 3.03\n"
     ]
    }
   ],
   "source": [
    "# Identifikasi crit region \n",
    "f_alpha = st.f.ppf(0.95, dfn = 2, dfd = 272)\n",
    "print(f\"Crit Region: f > {f_alpha:.2f}\")"
   ]
  },
  {
   "cell_type": "code",
   "execution_count": 70,
   "id": "422668d8-c797-4442-8897-aa39e283b5e9",
   "metadata": {},
   "outputs": [
    {
     "name": "stdout",
     "output_type": "stream",
     "text": [
      "Kesimpulan: f di dalam crit region, H0 ditolak\n"
     ]
    }
   ],
   "source": [
    "# Kesimpulan\n",
    "print(\"Kesimpulan: f di dalam crit region, H0 ditolak\")"
   ]
  },
  {
   "cell_type": "code",
   "execution_count": 71,
   "id": "c06d8abd-dfb3-42c9-aaa6-8a395fde90d5",
   "metadata": {},
   "outputs": [
    {
     "data": {
      "text/plain": [
       "0.00011129255376374214"
      ]
     },
     "execution_count": 71,
     "metadata": {},
     "output_type": "execute_result"
    }
   ],
   "source": [
    "# Identifikasi pvalue\n",
    "pval = 1 - st.f.cdf(9.414934, 2, 272)\n",
    "pval"
   ]
  },
  {
   "attachments": {},
   "cell_type": "markdown",
   "id": "cd22164c-65d2-40a9-914b-b9b1c1c4acdc",
   "metadata": {},
   "source": [
    "### Insight\n",
    "\n",
    "#### 1. Sebanyak 80% responden lebih prefer menggunakan ***mobile banking*** untuk melakukan transfer antar bank menandakan mungkin efisiensi dan efektivitas menggunakan mobile banking lebih tinggi dibanding channel lain.\n",
    "#### 2. Hampir setengah responden mengalami peningkatan aktivitas online selama 3 bulan terakhir dengan proporsi 49%.\n",
    "#### 3. Sebanyak 78.8% responden menggunakan *GoPay* sebagai ***E-Money*** dan kisaran nominal top up saldo ***E-Money*** dengan frekuensi terbanyak sekitar Rp 50.001 - Rp 100.000. \n",
    "#### 4. Jika dibandingkan antara pengguna ***E-Money*** dan bank dapat disimpulkan responden lebih banyak yang menggunakan ***E-Money*** ketimbang layanan dari bank, hal ini dapat dilihat dari frekuensi tertinggi masing-masing pengguna dengan frekuensi pengguna Bank BCA yaitu 148 orang sedangkan frekuensi pengguna GoPay yaitu 216 orang.\n",
    "#### 5. Sebanyak 79% responden prefer belanja HP secara offline dan 21% secara online menandakan kemungkinan kebanyakan responden lebih percaya belanja HP secara offline dibanding online."
   ]
  }
 ],
 "metadata": {
  "kernelspec": {
   "display_name": "Python 3 (ipykernel)",
   "language": "python",
   "name": "python3"
  },
  "language_info": {
   "codemirror_mode": {
    "name": "ipython",
    "version": 3
   },
   "file_extension": ".py",
   "mimetype": "text/x-python",
   "name": "python",
   "nbconvert_exporter": "python",
   "pygments_lexer": "ipython3",
   "version": "3.9.12"
  }
 },
 "nbformat": 4,
 "nbformat_minor": 5
}
